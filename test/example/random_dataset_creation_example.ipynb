{
 "cells": [
  {
   "cell_type": "markdown",
   "id": "aae69960-3efb-45ed-8a0a-8ffc8f213f87",
   "metadata": {},
   "source": [
    "# Random dataset creation example"
   ]
  },
  {
   "cell_type": "code",
   "execution_count": 6,
   "id": "b93744cf-3074-4bd3-bee2-d835fd990a7f",
   "metadata": {},
   "outputs": [],
   "source": [
    "import random\n",
    "from pathlib import Path\n",
    "import numpy as np\n",
    "import cv2\n",
    "import os\n",
    "import h5py\n",
    "import sys"
   ]
  },
  {
   "cell_type": "code",
   "execution_count": 7,
   "id": "496b574e-1991-4d2a-bc7c-b7e14ac876e7",
   "metadata": {},
   "outputs": [],
   "source": [
    "sys.path.append(\"..\") # TODO: Fix it!"
   ]
  },
  {
   "cell_type": "markdown",
   "id": "5267968d-99b8-4ba1-ac0b-7babb6704b25",
   "metadata": {},
   "source": [
    "## Importing the functions"
   ]
  },
  {
   "cell_type": "code",
   "execution_count": 8,
   "id": "bd1e5d26-bced-4061-a036-8ed482de9102",
   "metadata": {},
   "outputs": [],
   "source": [
    "from synthetic_contours_generator import create_random_dataset\n",
    "from synthetic_contours_generator import export_h5\n",
    "from synthetic_contours_generator import ellipse_to_contour"
   ]
  },
  {
   "cell_type": "markdown",
   "id": "9365fe6f-eb00-4ad4-aded-732c61e05fb4",
   "metadata": {},
   "source": [
    "## Defining the parameters"
   ]
  },
  {
   "cell_type": "code",
   "execution_count": 9,
   "id": "3ada28d3-1e54-41ba-87ce-a2b9d668d232",
   "metadata": {},
   "outputs": [],
   "source": [
    "image_width = 256\n",
    "image_height = 256\n",
    "\n",
    "output_path = Path(os.getcwd())\n",
    "\n",
    "h5_file_name = \"synthetic_circles.h5\"\n",
    "\n",
    "ellipsis_options = {\n",
    "    \"width\": {\"min\": 5, \"max\": 20},\n",
    "    \"angle\": {\"min\": -30, \"max\": 30},\n",
    "    \"N_ellipses\": {\"min\": 5, \"max\": 10},\n",
    "    \"line_width\": 4,\n",
    "}\n",
    "\n",
    "N_IMAGES = 50"
   ]
  },
  {
   "cell_type": "markdown",
   "id": "1a74cc86-d479-4790-9da6-889cfab4317f",
   "metadata": {},
   "source": [
    "The `ellipsis_options` dictionary contains the bounds of the ellipses, the function generates ellipses with random values between these bounds.\n"
   ]
  },
  {
   "cell_type": "markdown",
   "id": "d6a5b4a5-74be-47bf-acbe-3237003a35ec",
   "metadata": {},
   "source": [
    "## Final step: Running the function"
   ]
  },
  {
   "cell_type": "code",
   "execution_count": 11,
   "id": "7c0a3d3b-1cf8-4be1-bbfe-a918cc453252",
   "metadata": {},
   "outputs": [],
   "source": [
    "create_random_dataset(h5_file_name, image_width, image_height, N_IMAGES, output_path, ellipsis_options)"
   ]
  },
  {
   "cell_type": "markdown",
   "id": "ccb87469-4e2e-45c1-8870-13d0f3ecde10",
   "metadata": {},
   "source": [
    "By running this function, you'll see that it generated a total of `N_IMAGES` images with size (`image_width`x`image_height`).\n",
    "\n",
    "It also generated a `.h5` file which contains parameters from the contours created.\n"
   ]
  },
  {
   "cell_type": "markdown",
   "id": "1d21b13d-1d5f-494f-8d20-b57c6aa14f93",
   "metadata": {},
   "source": [
    "The images and the `.h5` file are extracted to the `output_path` folder."
   ]
  },
  {
   "cell_type": "code",
   "execution_count": null,
   "id": "7f490209-266f-409f-95ce-e6a663acfd34",
   "metadata": {},
   "outputs": [],
   "source": []
  }
 ],
 "metadata": {
  "kernelspec": {
   "display_name": "Python 3 (ipykernel)",
   "language": "python",
   "name": "python3"
  },
  "language_info": {
   "codemirror_mode": {
    "name": "ipython",
    "version": 3
   },
   "file_extension": ".py",
   "mimetype": "text/x-python",
   "name": "python",
   "nbconvert_exporter": "python",
   "pygments_lexer": "ipython3",
   "version": "3.8.18"
  }
 },
 "nbformat": 4,
 "nbformat_minor": 5
}
