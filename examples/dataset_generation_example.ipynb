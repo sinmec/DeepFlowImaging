{
 "cells": [
  {
   "cell_type": "markdown",
   "id": "76bfe6e5-0a1a-4b56-9743-818d7b5d4091",
   "metadata": {},
   "source": [
    "# <span style=\"color:red\"> **.h5 Dataset generation example** </span>"
   ]
  },
  {
   "cell_type": "markdown",
   "id": "16f821be-4109-49ae-a538-957933b2033b",
   "metadata": {},
   "source": [
    "Once you have the .h5 files, you can generate the dataset."
   ]
  },
  {
   "cell_type": "markdown",
   "id": "01724288-25be-4317-aaf5-13c662248701",
   "metadata": {},
   "source": [
    "On the following example, we will use the file `data.h5` available in the `dataset/raw_data` folder."
   ]
  },
  {
   "cell_type": "markdown",
   "id": "9c84c698-6d70-447e-a8c7-6f11ed48cd79",
   "metadata": {},
   "source": [
    "> Running `extract_images_from_h5.py` you'll see that it created two folders on the output directory."
   ]
  },
  {
   "cell_type": "markdown",
   "id": "0191da5d-010a-428f-b3a2-e93835a2492f",
   "metadata": {},
   "source": [
    "- `examples\\output\\imgs_full`, which contains the raw images\n",
    "- `examples\\output\\masks_full`, which contains the contours maks"
   ]
  },
  {
   "cell_type": "markdown",
   "id": "a7439f12-8acd-41cd-b11e-383f6650766c",
   "metadata": {},
   "source": [
    "<table align=\"left\">\n",
    "  <tr>\n",
    "     <td>\n",
    "        <img style=\"width: 100px\" src=\"img_0001.png\"/>\n",
    "         <br/><a href=\"link\">Mask image</a>\n",
    "     </td>\n",
    "     <td>\n",
    "        <img style=\"width: 100px\" src=\"img_0001.jpg\"/>\n",
    "        <br/><a href=\"link\">Raw image</a>\n",
    "     </td>\n",
    "  </tr>\n",
    "</table>"
   ]
  },
  {
   "cell_type": "markdown",
   "id": "a69943f8-a7d3-4de6-a23b-3e7b3a3b010d",
   "metadata": {},
   "source": [
    "To make your own dataset, you can simply change the `.h5 file` on `dataset/raw_data`. "
   ]
  },
  {
   "cell_type": "code",
   "execution_count": null,
   "id": "dd105ad4-3366-455d-9994-220d21553823",
   "metadata": {},
   "outputs": [],
   "source": []
  }
 ],
 "metadata": {
  "kernelspec": {
   "display_name": "Python 3 (ipykernel)",
   "language": "python",
   "name": "python3"
  },
  "language_info": {
   "codemirror_mode": {
    "name": "ipython",
    "version": 3
   },
   "file_extension": ".py",
   "mimetype": "text/x-python",
   "name": "python",
   "nbconvert_exporter": "python",
   "pygments_lexer": "ipython3",
   "version": "3.11.7"
  }
 },
 "nbformat": 4,
 "nbformat_minor": 5
}
