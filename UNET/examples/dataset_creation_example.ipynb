{
 "cells": [
  {
   "cell_type": "code",
   "execution_count": 8,
   "id": "4c5ed49e-5300-4ee6-ab9c-f0f74cdea9cd",
   "metadata": {},
   "outputs": [],
   "source": [
    "import os\n",
    "from pathlib import Path\n",
    "import cv2 \n",
    "import h5py\n",
    "import numpy as np\n",
    "from tqdm import tqdm\n",
    "import random\n",
    "import sys"
   ]
  },
  {
   "cell_type": "markdown",
   "id": "f88413f5-01d7-4466-8ec1-6517e6e2cf0a",
   "metadata": {},
   "source": [
    "# Dataset generation"
   ]
  },
  {
   "cell_type": "markdown",
   "id": "8e352b8d-8c10-414e-9844-9d76fb917e4b",
   "metadata": {},
   "source": [
    "## First step: Extracting images from the .h5 file"
   ]
  },
  {
   "cell_type": "markdown",
   "id": "cac4ae7f-f9eb-4e66-add9-5d7a6281a0cc",
   "metadata": {},
   "source": [
    "### Importing the function"
   ]
  },
  {
   "cell_type": "code",
   "execution_count": 9,
   "id": "09c9346e-b120-4416-ab2d-80fcf9f304e0",
   "metadata": {},
   "outputs": [],
   "source": [
    "sys.path.append(\"..\") # fix\n",
    "from dataset.extract_images_from_h5 import extract_images_from_h5"
   ]
  },
  {
   "cell_type": "markdown",
   "id": "4f9ee84f",
   "metadata": {},
   "source": [
    "### Defining the paths"
   ]
  },
  {
   "cell_type": "code",
   "execution_count": 10,
   "id": "d1dfab6a-ff51-41d3-b205-8eeac7611d12",
   "metadata": {},
   "outputs": [],
   "source": [
    "data_path = Path(r\"dataset_UNET\")\n",
    "output_path = Path(r\"dataset_UNET\\\\output\")"
   ]
  },
  {
   "cell_type": "markdown",
   "id": "e9253f9e",
   "metadata": {},
   "source": [
    "### Running the function"
   ]
  },
  {
   "cell_type": "code",
   "execution_count": 11,
   "id": "98d111ab-f97a-4887-a1c4-16b7fcdb13cc",
   "metadata": {},
   "outputs": [
    {
     "name": "stderr",
     "output_type": "stream",
     "text": [
      "Extracting dataset from .h5 file:   0%|                                                          | 0/1 [00:00<?, ?it/s]\n"
     ]
    },
    {
     "ename": "OSError",
     "evalue": "Unable to open file (unable to open file: name = 'dataset_UNET\\output', errno = 13, error message = 'Permission denied', flags = 0, o_flags = 0)",
     "output_type": "error",
     "traceback": [
      "\u001b[1;31m---------------------------------------------------------------------------\u001b[0m",
      "\u001b[1;31mOSError\u001b[0m                                   Traceback (most recent call last)",
      "Cell \u001b[1;32mIn[11], line 1\u001b[0m\n\u001b[1;32m----> 1\u001b[0m \u001b[43mextract_images_from_h5\u001b[49m\u001b[43m(\u001b[49m\u001b[43mdata_path\u001b[49m\u001b[43m,\u001b[49m\u001b[43m \u001b[49m\u001b[43moutput_path\u001b[49m\u001b[43m)\u001b[49m\n",
      "File \u001b[1;32m~\\Documents\\projetos\\DeepFlowImaging\\UNET\\examples\\..\\dataset\\extract_images_from_h5.py:32\u001b[0m, in \u001b[0;36mextract_images_from_h5\u001b[1;34m(data_path, output_path)\u001b[0m\n\u001b[0;32m     29\u001b[0m masks_full_dir\u001b[38;5;241m.\u001b[39mmkdir(exist_ok\u001b[38;5;241m=\u001b[39m\u001b[38;5;28;01mTrue\u001b[39;00m, parents\u001b[38;5;241m=\u001b[39m\u001b[38;5;28;01mTrue\u001b[39;00m)\n\u001b[0;32m     30\u001b[0m imgs_full_dir\u001b[38;5;241m.\u001b[39mmkdir(exist_ok\u001b[38;5;241m=\u001b[39m\u001b[38;5;28;01mTrue\u001b[39;00m, parents\u001b[38;5;241m=\u001b[39m\u001b[38;5;28;01mTrue\u001b[39;00m)\n\u001b[1;32m---> 32\u001b[0m h5_dataset \u001b[38;5;241m=\u001b[39m \u001b[43mh5py\u001b[49m\u001b[38;5;241;43m.\u001b[39;49m\u001b[43mFile\u001b[49m\u001b[43m(\u001b[49m\u001b[38;5;124;43mf\u001b[39;49m\u001b[38;5;124;43m\"\u001b[39;49m\u001b[38;5;132;43;01m{\u001b[39;49;00m\u001b[43mdirectory\u001b[49m\u001b[38;5;250;43m \u001b[39;49m\u001b[38;5;241;43m/\u001b[39;49m\u001b[38;5;250;43m \u001b[39;49m\u001b[43mh5_file\u001b[49m\u001b[38;5;132;43;01m}\u001b[39;49;00m\u001b[38;5;124;43m\"\u001b[39;49m\u001b[43m,\u001b[49m\u001b[43m \u001b[49m\u001b[38;5;124;43m\"\u001b[39;49m\u001b[38;5;124;43mr\u001b[39;49m\u001b[38;5;124;43m\"\u001b[39;49m\u001b[43m)\u001b[49m\n\u001b[0;32m     33\u001b[0m image_files \u001b[38;5;241m=\u001b[39m h5_dataset\u001b[38;5;241m.\u001b[39mkeys()\n\u001b[0;32m     35\u001b[0m \u001b[38;5;28;01mfor\u001b[39;00m image_file \u001b[38;5;129;01min\u001b[39;00m image_files:\n",
      "File \u001b[1;32m~\\anaconda3\\envs\\multilabeller\\lib\\site-packages\\h5py\\_hl\\files.py:406\u001b[0m, in \u001b[0;36mFile.__init__\u001b[1;34m(self, name, mode, driver, libver, userblock_size, swmr, rdcc_nslots, rdcc_nbytes, rdcc_w0, track_order, **kwds)\u001b[0m\n\u001b[0;32m    404\u001b[0m \u001b[38;5;28;01mwith\u001b[39;00m phil:\n\u001b[0;32m    405\u001b[0m     fapl \u001b[38;5;241m=\u001b[39m make_fapl(driver, libver, rdcc_nslots, rdcc_nbytes, rdcc_w0, \u001b[38;5;241m*\u001b[39m\u001b[38;5;241m*\u001b[39mkwds)\n\u001b[1;32m--> 406\u001b[0m     fid \u001b[38;5;241m=\u001b[39m \u001b[43mmake_fid\u001b[49m\u001b[43m(\u001b[49m\u001b[43mname\u001b[49m\u001b[43m,\u001b[49m\u001b[43m \u001b[49m\u001b[43mmode\u001b[49m\u001b[43m,\u001b[49m\u001b[43m \u001b[49m\u001b[43muserblock_size\u001b[49m\u001b[43m,\u001b[49m\n\u001b[0;32m    407\u001b[0m \u001b[43m                   \u001b[49m\u001b[43mfapl\u001b[49m\u001b[43m,\u001b[49m\u001b[43m \u001b[49m\u001b[43mfcpl\u001b[49m\u001b[38;5;241;43m=\u001b[39;49m\u001b[43mmake_fcpl\u001b[49m\u001b[43m(\u001b[49m\u001b[43mtrack_order\u001b[49m\u001b[38;5;241;43m=\u001b[39;49m\u001b[43mtrack_order\u001b[49m\u001b[43m)\u001b[49m\u001b[43m,\u001b[49m\n\u001b[0;32m    408\u001b[0m \u001b[43m                   \u001b[49m\u001b[43mswmr\u001b[49m\u001b[38;5;241;43m=\u001b[39;49m\u001b[43mswmr\u001b[49m\u001b[43m)\u001b[49m\n\u001b[0;32m    410\u001b[0m \u001b[38;5;28;01mif\u001b[39;00m \u001b[38;5;28misinstance\u001b[39m(libver, \u001b[38;5;28mtuple\u001b[39m):\n\u001b[0;32m    411\u001b[0m     \u001b[38;5;28mself\u001b[39m\u001b[38;5;241m.\u001b[39m_libver \u001b[38;5;241m=\u001b[39m libver\n",
      "File \u001b[1;32m~\\anaconda3\\envs\\multilabeller\\lib\\site-packages\\h5py\\_hl\\files.py:173\u001b[0m, in \u001b[0;36mmake_fid\u001b[1;34m(name, mode, userblock_size, fapl, fcpl, swmr)\u001b[0m\n\u001b[0;32m    171\u001b[0m     \u001b[38;5;28;01mif\u001b[39;00m swmr \u001b[38;5;129;01mand\u001b[39;00m swmr_support:\n\u001b[0;32m    172\u001b[0m         flags \u001b[38;5;241m|\u001b[39m\u001b[38;5;241m=\u001b[39m h5f\u001b[38;5;241m.\u001b[39mACC_SWMR_READ\n\u001b[1;32m--> 173\u001b[0m     fid \u001b[38;5;241m=\u001b[39m \u001b[43mh5f\u001b[49m\u001b[38;5;241;43m.\u001b[39;49m\u001b[43mopen\u001b[49m\u001b[43m(\u001b[49m\u001b[43mname\u001b[49m\u001b[43m,\u001b[49m\u001b[43m \u001b[49m\u001b[43mflags\u001b[49m\u001b[43m,\u001b[49m\u001b[43m \u001b[49m\u001b[43mfapl\u001b[49m\u001b[38;5;241;43m=\u001b[39;49m\u001b[43mfapl\u001b[49m\u001b[43m)\u001b[49m\n\u001b[0;32m    174\u001b[0m \u001b[38;5;28;01melif\u001b[39;00m mode \u001b[38;5;241m==\u001b[39m \u001b[38;5;124m'\u001b[39m\u001b[38;5;124mr+\u001b[39m\u001b[38;5;124m'\u001b[39m:\n\u001b[0;32m    175\u001b[0m     fid \u001b[38;5;241m=\u001b[39m h5f\u001b[38;5;241m.\u001b[39mopen(name, h5f\u001b[38;5;241m.\u001b[39mACC_RDWR, fapl\u001b[38;5;241m=\u001b[39mfapl)\n",
      "File \u001b[1;32mh5py\\_objects.pyx:54\u001b[0m, in \u001b[0;36mh5py._objects.with_phil.wrapper\u001b[1;34m()\u001b[0m\n",
      "File \u001b[1;32mh5py\\_objects.pyx:55\u001b[0m, in \u001b[0;36mh5py._objects.with_phil.wrapper\u001b[1;34m()\u001b[0m\n",
      "File \u001b[1;32mh5py\\h5f.pyx:88\u001b[0m, in \u001b[0;36mh5py.h5f.open\u001b[1;34m()\u001b[0m\n",
      "\u001b[1;31mOSError\u001b[0m: Unable to open file (unable to open file: name = 'dataset_UNET\\output', errno = 13, error message = 'Permission denied', flags = 0, o_flags = 0)"
     ]
    }
   ],
   "source": [
    "extract_images_from_h5(data_path, output_path)"
   ]
  },
  {
   "cell_type": "markdown",
   "id": "b810be1c-bd95-42c4-b7e0-b05cc488f394",
   "metadata": {},
   "source": [
    "By running this function, you'll see that it extracted the raw images and masks from the .h5 file, on the `output_path`"
   ]
  },
  {
   "cell_type": "markdown",
   "id": "faf57198-5b49-4455-b5a1-a42ae84eb43c",
   "metadata": {},
   "source": [
    "## Second step: Generating the dataset"
   ]
  },
  {
   "cell_type": "markdown",
   "id": "8b30c371-779e-4197-a942-c9862ae8e259",
   "metadata": {},
   "source": [
    "### Importing the function"
   ]
  },
  {
   "cell_type": "code",
   "execution_count": 5,
   "id": "ad399cab-6ead-4ab2-bd45-d3d3cd1afe30",
   "metadata": {},
   "outputs": [],
   "source": [
    "from dataset.create_dataset import create_dataset"
   ]
  },
  {
   "cell_type": "markdown",
   "id": "2c6071ad-6935-4afd-a248-1afbfeed36c0",
   "metadata": {},
   "source": [
    "### Defining some parameters"
   ]
  },
  {
   "cell_type": "code",
   "execution_count": 6,
   "id": "b1cccfdb-8113-4cd6-abe6-0f1b2eb40ec7",
   "metadata": {},
   "outputs": [],
   "source": [
    "# Size of the sub-images\n",
    "sub_image_size = 128\n",
    "\n",
    "# Number of random samples\n",
    "random_samples = 64\n",
    "\n",
    "# Number of Validation images\n",
    "N_VALIDATION = 2\n",
    "\n",
    "# Number of Verification images\n",
    "N_VERIFICATION = 2\n",
    "\n",
    "# Path to the dataset\n",
    "path = output_path"
   ]
  },
  {
   "cell_type": "markdown",
   "id": "ab03c2ec-ca51-4214-9d16-d4dd5084912e",
   "metadata": {},
   "source": [
    "### Running the function"
   ]
  },
  {
   "cell_type": "code",
   "execution_count": 7,
   "id": "f5443f25-3182-472f-ad21-0fc9275e9640",
   "metadata": {},
   "outputs": [
    {
     "name": "stderr",
     "output_type": "stream",
     "text": [
      "Creating sub-images: 100%|███████████████████████████████████████████████████████████████| 9/9 [00:00<00:00, 14.05it/s]\n"
     ]
    }
   ],
   "source": [
    "create_dataset(path, sub_image_size, random_samples, N_VALIDATION, N_VERIFICATION)"
   ]
  },
  {
   "cell_type": "markdown",
   "id": "f8572087-00ff-4ada-b940-021a9ef55272",
   "metadata": {},
   "source": [
    "By running this function, you'll see that it created, on the chosen path, three new folders:\n",
    "- Training\n",
    "- Validation\n",
    "- Verification"
   ]
  }
 ],
 "metadata": {
  "kernelspec": {
   "display_name": "Python 3 (ipykernel)",
   "language": "python",
   "name": "python3"
  },
  "language_info": {
   "codemirror_mode": {
    "name": "ipython",
    "version": 3
   },
   "file_extension": ".py",
   "mimetype": "text/x-python",
   "name": "python",
   "nbconvert_exporter": "python",
   "pygments_lexer": "ipython3",
   "version": "3.8.18"
  }
 },
 "nbformat": 4,
 "nbformat_minor": 5
}
