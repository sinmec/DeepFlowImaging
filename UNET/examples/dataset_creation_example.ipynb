{
 "cells": [
  {
   "cell_type": "code",
   "execution_count": 19,
   "id": "4c5ed49e-5300-4ee6-ab9c-f0f74cdea9cd",
   "metadata": {},
   "outputs": [],
   "source": [
    "import os\n",
    "from pathlib import Path\n",
    "import cv2 \n",
    "import h5py\n",
    "import numpy as np\n",
    "from tqdm import tqdm\n",
    "import random\n",
    "import sys"
   ]
  },
  {
   "cell_type": "markdown",
   "id": "f88413f5-01d7-4466-8ec1-6517e6e2cf0a",
   "metadata": {},
   "source": [
    "# Dataset generation"
   ]
  },
  {
   "cell_type": "markdown",
   "id": "8e352b8d-8c10-414e-9844-9d76fb917e4b",
   "metadata": {},
   "source": [
    "## First step: Extracting images from the .h5 file"
   ]
  },
  {
   "cell_type": "markdown",
   "id": "cac4ae7f-f9eb-4e66-add9-5d7a6281a0cc",
   "metadata": {},
   "source": [
    "### Importing the function"
   ]
  },
  {
   "cell_type": "code",
   "execution_count": 20,
   "id": "09c9346e-b120-4416-ab2d-80fcf9f304e0",
   "metadata": {},
   "outputs": [],
   "source": [
    "sys.path.append(\"..\") # fix\n",
    "from dataset.extract_images_from_h5 import extract_images_from_h5"
   ]
  },
  {
   "cell_type": "markdown",
   "id": "4f9ee84f",
   "metadata": {},
   "source": [
    "### Defining the paths"
   ]
  },
  {
   "cell_type": "code",
   "execution_count": 35,
   "id": "d1dfab6a-ff51-41d3-b205-8eeac7611d12",
   "metadata": {},
   "outputs": [],
   "source": [
    "data_path = Path(r\"dataset_UNET\")\n",
    "output_path = Path(r\"dataset_UNET\")"
   ]
  },
  {
   "cell_type": "markdown",
   "id": "e9253f9e",
   "metadata": {},
   "source": [
    "### Running the function"
   ]
  },
  {
   "cell_type": "code",
   "execution_count": 36,
   "id": "98d111ab-f97a-4887-a1c4-16b7fcdb13cc",
   "metadata": {},
   "outputs": [
    {
     "name": "stderr",
     "output_type": "stream",
     "text": [
      "Extracting dataset from .h5 file: 100%|██████████████████████████████████████████████████| 1/1 [00:00<00:00,  5.45it/s]\n"
     ]
    }
   ],
   "source": [
    "extract_images_from_h5(data_path, output_path)"
   ]
  },
  {
   "cell_type": "markdown",
   "id": "b810be1c-bd95-42c4-b7e0-b05cc488f394",
   "metadata": {},
   "source": [
    "By running this function, you'll see that it extracted the raw images and masks from the .h5 file, on the `output_path`"
   ]
  },
  {
   "cell_type": "markdown",
   "id": "faf57198-5b49-4455-b5a1-a42ae84eb43c",
   "metadata": {},
   "source": [
    "## Second step: Generating the dataset"
   ]
  },
  {
   "cell_type": "markdown",
   "id": "8b30c371-779e-4197-a942-c9862ae8e259",
   "metadata": {},
   "source": [
    "### Importing the function"
   ]
  },
  {
   "cell_type": "code",
   "execution_count": 28,
   "id": "ad399cab-6ead-4ab2-bd45-d3d3cd1afe30",
   "metadata": {},
   "outputs": [],
   "source": [
    "from dataset.create_dataset import create_dataset"
   ]
  },
  {
   "cell_type": "markdown",
   "id": "2c6071ad-6935-4afd-a248-1afbfeed36c0",
   "metadata": {},
   "source": [
    "### Defining some parameters"
   ]
  },
  {
   "cell_type": "code",
   "execution_count": 29,
   "id": "b1cccfdb-8113-4cd6-abe6-0f1b2eb40ec7",
   "metadata": {},
   "outputs": [],
   "source": [
    "# Size of the sub-images\n",
    "sub_image_size = 128\n",
    "\n",
    "# Number of random samples\n",
    "random_samples = 64\n",
    "\n",
    "# Number of Validation images\n",
    "N_VALIDATION = 2\n",
    "\n",
    "# Number of Verification images\n",
    "N_VERIFICATION = 2\n",
    "\n",
    "# Path dataset\n",
    "path = output_path"
   ]
  },
  {
   "cell_type": "markdown",
   "id": "ab03c2ec-ca51-4214-9d16-d4dd5084912e",
   "metadata": {},
   "source": [
    "### Running the function"
   ]
  },
  {
   "cell_type": "code",
   "execution_count": 30,
   "id": "f5443f25-3182-472f-ad21-0fc9275e9640",
   "metadata": {},
   "outputs": [
    {
     "name": "stderr",
     "output_type": "stream",
     "text": [
      "Creating sub-images: 100%|███████████████████████████████████████████████████████████████| 9/9 [00:00<00:00, 14.98it/s]\n"
     ]
    }
   ],
   "source": [
    "create_dataset(path, sub_image_size, random_samples, N_VALIDATION, N_VERIFICATION)"
   ]
  },
  {
   "cell_type": "markdown",
   "id": "f8572087-00ff-4ada-b940-021a9ef55272",
   "metadata": {},
   "source": [
    "By running this function, you'll see that it created, on the chosen path, three new folders:\n",
    "- Training\n",
    "- Validation\n",
    "- Verification"
   ]
  },
  {
   "cell_type": "code",
   "execution_count": null,
   "id": "19387b44-81f1-4ad5-87d7-548b64c06369",
   "metadata": {},
   "outputs": [],
   "source": []
  }
 ],
 "metadata": {
  "kernelspec": {
   "display_name": "Python 3 (ipykernel)",
   "language": "python",
   "name": "python3"
  },
  "language_info": {
   "codemirror_mode": {
    "name": "ipython",
    "version": 3
   },
   "file_extension": ".py",
   "mimetype": "text/x-python",
   "name": "python",
   "nbconvert_exporter": "python",
   "pygments_lexer": "ipython3",
   "version": "3.8.18"
  }
 },
 "nbformat": 4,
 "nbformat_minor": 5
}
