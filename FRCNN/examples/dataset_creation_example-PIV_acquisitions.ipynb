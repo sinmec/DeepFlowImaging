{
 "cells": [
  {
   "cell_type": "code",
   "execution_count": 1,
   "id": "bd5a892e-d2eb-4342-938f-b0a97777c433",
   "metadata": {},
   "outputs": [],
   "source": [
    "import cv2\n",
    "import h5py\n",
    "from pathlib import Path\n",
    "import random\n",
    "import os\n",
    "import sys"
   ]
  },
  {
   "cell_type": "markdown",
   "id": "130ccac0-c323-428b-8b0d-45bb12c6e5de",
   "metadata": {},
   "source": [
    "# F-RCNN Dataset Generation"
   ]
  },
  {
   "cell_type": "markdown",
   "id": "4953565a-4c71-405c-a2ea-d4837e95cddb",
   "metadata": {},
   "source": [
    "## Importing the function"
   ]
  },
  {
   "cell_type": "code",
   "execution_count": 2,
   "id": "2ff24ef2-ffbd-487e-a12b-3884f405c88e",
   "metadata": {},
   "outputs": [
    {
     "name": "stderr",
     "output_type": "stream",
     "text": [
      "2024-07-25 13:05:16.368507: I tensorflow/core/util/port.cc:153] oneDNN custom operations are on. You may see slightly different numerical results due to floating-point round-off errors from different computation orders. To turn them off, set the environment variable `TF_ENABLE_ONEDNN_OPTS=0`.\n",
      "2024-07-25 13:05:16.391247: E external/local_xla/xla/stream_executor/cuda/cuda_fft.cc:485] Unable to register cuFFT factory: Attempting to register factory for plugin cuFFT when one has already been registered\n",
      "2024-07-25 13:05:16.416870: E external/local_xla/xla/stream_executor/cuda/cuda_dnn.cc:8454] Unable to register cuDNN factory: Attempting to register factory for plugin cuDNN when one has already been registered\n",
      "2024-07-25 13:05:16.424594: E external/local_xla/xla/stream_executor/cuda/cuda_blas.cc:1452] Unable to register cuBLAS factory: Attempting to register factory for plugin cuBLAS when one has already been registered\n",
      "2024-07-25 13:05:16.442719: I tensorflow/core/platform/cpu_feature_guard.cc:210] This TensorFlow binary is optimized to use available CPU instructions in performance-critical operations.\n",
      "To enable the following instructions: AVX2 AVX512F AVX512_VNNI FMA, in other operations, rebuild TensorFlow with the appropriate compiler flags.\n",
      "2024-07-25 13:05:17.566763: W tensorflow/compiler/tf2tensorrt/utils/py_utils.cc:38] TF-TRT Warning: Could not find TensorRT\n"
     ]
    }
   ],
   "source": [
    "sys.path.append(\"..\")  # TODO: Fix it!\n",
    "from dataset.create_dataset import create_dataset"
   ]
  },
  {
   "cell_type": "markdown",
   "id": "996c618a-3fa5-4a0b-a8e1-5b1cb91d3933",
   "metadata": {},
   "source": [
    "## Defining the path"
   ]
  },
  {
   "cell_type": "markdown",
   "id": "d35afbf2-6430-4113-8d6e-9b1623fad321",
   "metadata": {},
   "source": [
    "A `.h5` file containing a F-RCNN example is provided in this example (`FRCNN_dataset.h5`).\n",
    "\n",
    "The following F-RCNN dataset was created using the image annotation tool available [here](https://github.com/sinmec/multilabellerg).\n",
    "\n",
    "The current implementation can read multiple `.h5` files. This is done by simply placing the dataset files in the same `h5_dataset_path` folder.\n",
    "\n",
    "The images are extracted to the `output_path` folder."
   ]
  },
  {
   "cell_type": "code",
   "execution_count": 3,
   "id": "d6837dda-5643-40fb-81bb-9672e4f2e885",
   "metadata": {},
   "outputs": [],
   "source": [
    "h5_dataset_path = Path('/home/rafaelfc/Data/PIV_UNET_IJMF_DATASET/')\n",
    "output_path = Path(r\"dataset_FRCNN_PIV_IJMF_2\")"
   ]
  },
  {
   "cell_type": "markdown",
   "id": "d78c9c62-ddf2-4b03-b1dc-76d3fd3d541e",
   "metadata": {},
   "source": [
    "## Defining parameters"
   ]
  },
  {
   "cell_type": "code",
   "execution_count": 4,
   "id": "1998954a-e44b-4baa-bde9-3dc330dfef60",
   "metadata": {},
   "outputs": [],
   "source": [
    "# Number of Validation images\n",
    "N_VALIDATION = 5\n",
    "\n",
    "# Number of Verification images\n",
    "N_VERIFICATION = 5"
   ]
  },
  {
   "cell_type": "markdown",
   "id": "7fe68285-d583-4d0f-9689-6243bd2396c0",
   "metadata": {},
   "source": [
    "For the dataset generation, two options are provided.\n",
    "\n",
    "In the first one, the dataset is composed of the annotated contours and the original images, i.e., the F-RCNN object detection is based on the original image information. This option may work well if the image is not complex and the objects are easily distinguished.\n",
    "For this option, simply define the variable  `UNET_model_options = None`, as shown (and commented) below."
   ]
  },
  {
   "cell_type": "code",
   "execution_count": 1,
   "id": "68cd1632-99f1-4ac7-bab5-c5313e95e49d",
   "metadata": {},
   "outputs": [],
   "source": [
    "UNET_model_options = None"
   ]
  },
  {
   "cell_type": "markdown",
   "id": "75826b0c-dea6-422d-91f9-b6732fea2bf8",
   "metadata": {},
   "source": [
    "In some cases, for instance, when dealing with [bubbly flow PIV acqusitions](https://www.sciencedirect.com/science/article/pii/S0009250918303269), the objects are not readily visible in the original image.\n",
    "In this case, the F-RCNN object detection is based on an intermediate representation of the original image. Here, we apply a U-Net model to segment the image and highlight the bubble positions. For this option, the `UNET_model_options` should be configured.\n",
    "It is important to note that, to use this option, it is required to train an appropriate U-Net model, following the guidelines detailed in this repository."
   ]
  },
  {
   "cell_type": "code",
   "execution_count": 5,
   "id": "bb70c1ee-70ab-423c-97e8-4882728c6a5c",
   "metadata": {},
   "outputs": [],
   "source": [
    "UNET_model_options = {'keras_file': '/home/rafaelfc/Data/DeepFlowImaging/UNET/training/keras-tuner/UNET_best_model_large_01.keras',\n",
    "                      'window_size': 512,\n",
    "                      'sub_image_size': 128,\n",
    "                      'stride_division': 16}                      "
   ]
  },
  {
   "cell_type": "markdown",
   "id": "a2bef62b-0b6b-4352-9641-79d1c8060e4a",
   "metadata": {},
   "source": [
    "## Generating the dataset\n",
    "\n",
    "The dataset is generated from the `create_dataset` function. Additional options include:  \n",
    "\n",
    " - `limit_height` This is useful for long images, such as those acquired from straight pipe sections. Example `limit_height=600`"
   ]
  },
  {
   "cell_type": "code",
   "execution_count": 6,
   "id": "fdbf341a-6e02-410f-9973-855bc97e4618",
   "metadata": {},
   "outputs": [
    {
     "name": "stderr",
     "output_type": "stream",
     "text": [
      "2024-07-25 13:05:19.344809: I tensorflow/core/common_runtime/gpu/gpu_device.cc:2021] Created device /job:localhost/replica:0/task:0/device:GPU:0 with 3859 MB memory:  -> device: 0, name: NVIDIA RTX A2000, pci bus id: 0000:b3:00.0, compute capability: 8.6\n",
      "Extracting dataset from .h5 file:   0%|                                                                                                                            | 0/14 [00:00<?, ?it/s]\n",
      "Creating dataset:   0%|                                                                                                                                             | 0/1 [00:00<?, ?it/s]\u001b[AWARNING: All log messages before absl::InitializeLog() is called are written to STDERR\n",
      "I0000 00:00:1721923520.238197  955736 service.cc:146] XLA service 0x7f67940031b0 initialized for platform CUDA (this does not guarantee that XLA will be used). Devices:\n",
      "I0000 00:00:1721923520.238252  955736 service.cc:154]   StreamExecutor device (0): NVIDIA RTX A2000, Compute Capability 8.6\n",
      "2024-07-25 13:05:20.270297: I tensorflow/compiler/mlir/tensorflow/utils/dump_mlir_util.cc:268] disabling MLIR crash reproducer, set env var `MLIR_CRASH_REPRODUCER_DIRECTORY` to enable.\n",
      "2024-07-25 13:05:20.404045: I external/local_xla/xla/stream_executor/cuda/cuda_dnn.cc:531] Loaded cuDNN version 8907\n",
      "I0000 00:00:1721923522.330716  955736 device_compiler.h:188] Compiled cluster using XLA!  This line is logged at most once for the lifetime of the process.\n",
      "/home/rafaelfc/Data/DeepFlowImaging/FRCNN/examples/../../UNET/prediction/recreate_UNET_image.py:40: RuntimeWarning: invalid value encountered in divide\n",
      "  UNET_image /= UNET_image_nmax\n",
      "/home/rafaelfc/Data/DeepFlowImaging/FRCNN/examples/../../UNET/prediction/recreate_UNET_image.py:43: RuntimeWarning: invalid value encountered in cast\n",
      "  UNET_image = UNET_image.astype(np.uint8)\n",
      "\n",
      "Creating dataset: 100%|█████████████████████████████████████████████████████████████████████████████████████████████████████████████████████████████████████| 1/1 [00:02<00:00,  2.70s/it]\u001b[A\n",
      "Extracting dataset from .h5 file:   7%|████████▎                                                                                                           | 1/14 [00:02<00:35,  2.71s/it]\n",
      "Creating dataset:   0%|                                                                                                                                             | 0/1 [00:00<?, ?it/s]\u001b[A\n",
      "Creating dataset: 100%|█████████████████████████████████████████████████████████████████████████████████████████████████████████████████████████████████████| 1/1 [00:02<00:00,  2.42s/it]\u001b[A\n",
      "Extracting dataset from .h5 file:  14%|████████████████▌                                                                                                   | 2/14 [00:05<00:30,  2.54s/it]\n",
      "Creating dataset:   0%|                                                                                                                                            | 0/11 [00:00<?, ?it/s]\u001b[A\n",
      "Creating dataset:   9%|████████████                                                                                                                        | 1/11 [00:00<00:01,  5.27it/s]\u001b[A\n",
      "Creating dataset:  18%|████████████████████████                                                                                                            | 2/11 [00:00<00:01,  5.19it/s]\u001b[A\n",
      "Creating dataset:  27%|████████████████████████████████████                                                                                                | 3/11 [00:00<00:01,  5.19it/s]\u001b[A\n",
      "Creating dataset:  36%|████████████████████████████████████████████████                                                                                    | 4/11 [00:00<00:01,  4.19it/s]\u001b[A\n",
      "Creating dataset:  45%|████████████████████████████████████████████████████████████                                                                        | 5/11 [00:01<00:01,  3.77it/s]\u001b[A\n",
      "Creating dataset:  55%|████████████████████████████████████████████████████████████████████████                                                            | 6/11 [00:01<00:01,  3.65it/s]\u001b[A\n",
      "Creating dataset:  64%|████████████████████████████████████████████████████████████████████████████████████                                                | 7/11 [00:01<00:01,  3.99it/s]\u001b[A\n",
      "Creating dataset:  73%|████████████████████████████████████████████████████████████████████████████████████████████████                                    | 8/11 [00:01<00:00,  4.20it/s]\u001b[A\n",
      "Creating dataset:  82%|████████████████████████████████████████████████████████████████████████████████████████████████████████████                        | 9/11 [00:02<00:00,  4.35it/s]\u001b[A\n",
      "Creating dataset:  91%|███████████████████████████████████████████████████████████████████████████████████████████████████████████████████████            | 10/11 [00:02<00:00,  4.39it/s]\u001b[A\n",
      "Creating dataset: 100%|███████████████████████████████████████████████████████████████████████████████████████████████████████████████████████████████████| 11/11 [00:02<00:00,  4.25it/s]\u001b[A\n",
      "Extracting dataset from .h5 file:  21%|████████████████████████▊                                                                                           | 3/14 [00:07<00:28,  2.57s/it]\n",
      "Creating dataset:   0%|                                                                                                                                             | 0/1 [00:00<?, ?it/s]\u001b[A\n",
      "Creating dataset: 100%|█████████████████████████████████████████████████████████████████████████████████████████████████████████████████████████████████████| 1/1 [00:00<00:00,  4.07it/s]\u001b[A\n",
      "Extracting dataset from .h5 file:  29%|█████████████████████████████████▏                                                                                  | 4/14 [00:07<00:16,  1.65s/it]\n",
      "Creating dataset:   0%|                                                                                                                                             | 0/1 [00:00<?, ?it/s]\u001b[A\n",
      "Creating dataset: 100%|█████████████████████████████████████████████████████████████████████████████████████████████████████████████████████████████████████| 1/1 [00:00<00:00,  3.71it/s]\u001b[A\n",
      "Extracting dataset from .h5 file:  36%|█████████████████████████████████████████▍                                                                          | 5/14 [00:08<00:10,  1.16s/it]\n",
      "Creating dataset:   0%|                                                                                                                                             | 0/1 [00:00<?, ?it/s]\u001b[A\n",
      "Creating dataset: 100%|█████████████████████████████████████████████████████████████████████████████████████████████████████████████████████████████████████| 1/1 [00:00<00:00,  3.95it/s]\u001b[A\n",
      "Extracting dataset from .h5 file:  43%|█████████████████████████████████████████████████▋                                                                  | 6/14 [00:08<00:06,  1.17it/s]\n",
      "Creating dataset:   0%|                                                                                                                                             | 0/1 [00:00<?, ?it/s]\u001b[A\n",
      "Creating dataset: 100%|█████████████████████████████████████████████████████████████████████████████████████████████████████████████████████████████████████| 1/1 [00:00<00:00,  4.84it/s]\u001b[A\n",
      "Extracting dataset from .h5 file:  50%|██████████████████████████████████████████████████████████                                                          | 7/14 [00:08<00:04,  1.55it/s]\n",
      "Creating dataset:   0%|                                                                                                                                            | 0/66 [00:00<?, ?it/s]\u001b[A\n",
      "Creating dataset:   2%|██                                                                                                                                  | 1/66 [00:00<00:13,  4.83it/s]\u001b[A\n",
      "Creating dataset:   3%|████                                                                                                                                | 2/66 [00:00<00:13,  4.88it/s]\u001b[A\n",
      "Creating dataset:   5%|██████                                                                                                                              | 3/66 [00:00<00:14,  4.26it/s]\u001b[A\n",
      "Creating dataset:   6%|████████                                                                                                                            | 4/66 [00:00<00:13,  4.45it/s]\u001b[A\n",
      "Creating dataset:   8%|██████████                                                                                                                          | 5/66 [00:01<00:14,  4.16it/s]\u001b[A\n",
      "Creating dataset:   9%|████████████                                                                                                                        | 6/66 [00:01<00:14,  4.07it/s]\u001b[A\n",
      "Creating dataset:  11%|██████████████                                                                                                                      | 7/66 [00:01<00:13,  4.24it/s]\u001b[A\n",
      "Creating dataset:  12%|████████████████                                                                                                                    | 8/66 [00:01<00:13,  4.28it/s]\u001b[A\n",
      "Creating dataset:  14%|██████████████████                                                                                                                  | 9/66 [00:02<00:14,  3.97it/s]\u001b[A\n",
      "Creating dataset:  15%|███████████████████▊                                                                                                               | 10/66 [00:02<00:13,  4.16it/s]\u001b[A\n",
      "Creating dataset:  17%|█████████████████████▊                                                                                                             | 11/66 [00:02<00:12,  4.27it/s]\u001b[A\n",
      "Creating dataset:  18%|███████████████████████▊                                                                                                           | 12/66 [00:02<00:12,  4.28it/s]\u001b[A\n",
      "Creating dataset:  20%|█████████████████████████▊                                                                                                         | 13/66 [00:03<00:12,  4.12it/s]\u001b[A\n",
      "Creating dataset:  21%|███████████████████████████▊                                                                                                       | 14/66 [00:03<00:13,  3.95it/s]\u001b[A\n",
      "Creating dataset:  23%|█████████████████████████████▊                                                                                                     | 15/66 [00:03<00:12,  3.95it/s]\u001b[A\n",
      "Creating dataset:  24%|███████████████████████████████▊                                                                                                   | 16/66 [00:03<00:11,  4.19it/s]\u001b[A\n",
      "Creating dataset:  26%|█████████████████████████████████▋                                                                                                 | 17/66 [00:04<00:11,  4.10it/s]\u001b[A\n",
      "Creating dataset:  27%|███████████████████████████████████▋                                                                                               | 18/66 [00:04<00:12,  3.88it/s]\u001b[A\n",
      "Creating dataset:  29%|█████████████████████████████████████▋                                                                                             | 19/66 [00:04<00:11,  4.12it/s]\u001b[A\n",
      "Creating dataset:  30%|███████████████████████████████████████▋                                                                                           | 20/66 [00:04<00:10,  4.37it/s]\u001b[A\n",
      "Creating dataset:  32%|█████████████████████████████████████████▋                                                                                         | 21/66 [00:04<00:10,  4.46it/s]\u001b[A\n",
      "Creating dataset:  33%|███████████████████████████████████████████▋                                                                                       | 22/66 [00:05<00:09,  4.53it/s]\u001b[A\n",
      "Creating dataset:  35%|█████████████████████████████████████████████▋                                                                                     | 23/66 [00:05<00:09,  4.73it/s]\u001b[A\n",
      "Creating dataset:  36%|███████████████████████████████████████████████▋                                                                                   | 24/66 [00:05<00:08,  4.84it/s]\u001b[A\n",
      "Creating dataset:  38%|█████████████████████████████████████████████████▌                                                                                 | 25/66 [00:05<00:08,  4.93it/s]\u001b[A\n",
      "Creating dataset:  39%|███████████████████████████████████████████████████▌                                                                               | 26/66 [00:05<00:08,  4.82it/s]\u001b[A\n",
      "Creating dataset:  41%|█████████████████████████████████████████████████████▌                                                                             | 27/66 [00:06<00:09,  4.33it/s]\u001b[A\n",
      "Creating dataset:  42%|███████████████████████████████████████████████████████▌                                                                           | 28/66 [00:06<00:08,  4.27it/s]\u001b[A\n",
      "Creating dataset:  44%|█████████████████████████████████████████████████████████▌                                                                         | 29/66 [00:06<00:09,  4.04it/s]\u001b[A\n",
      "Creating dataset:  45%|███████████████████████████████████████████████████████████▌                                                                       | 30/66 [00:07<00:09,  3.84it/s]\u001b[A\n",
      "Creating dataset:  47%|█████████████████████████████████████████████████████████████▌                                                                     | 31/66 [00:07<00:09,  3.69it/s]\u001b[A\n",
      "Creating dataset:  48%|███████████████████████████████████████████████████████████████▌                                                                   | 32/66 [00:07<00:08,  3.95it/s]\u001b[A\n",
      "Creating dataset:  50%|█████████████████████████████████████████████████████████████████▌                                                                 | 33/66 [00:07<00:07,  4.21it/s]\u001b[A\n",
      "Creating dataset:  52%|███████████████████████████████████████████████████████████████████▍                                                               | 34/66 [00:08<00:07,  4.37it/s]\u001b[A\n",
      "Creating dataset:  53%|█████████████████████████████████████████████████████████████████████▍                                                             | 35/66 [00:08<00:07,  4.12it/s]\u001b[A\n",
      "Creating dataset:  55%|███████████████████████████████████████████████████████████████████████▍                                                           | 36/66 [00:08<00:06,  4.31it/s]\u001b[A\n",
      "Creating dataset:  56%|█████████████████████████████████████████████████████████████████████████▍                                                         | 37/66 [00:08<00:06,  4.34it/s]\u001b[A\n",
      "Creating dataset:  58%|███████████████████████████████████████████████████████████████████████████▍                                                       | 38/66 [00:08<00:06,  4.39it/s]\u001b[A\n",
      "Creating dataset:  59%|█████████████████████████████████████████████████████████████████████████████▍                                                     | 39/66 [00:09<00:06,  4.46it/s]\u001b[A\n",
      "Creating dataset:  61%|███████████████████████████████████████████████████████████████████████████████▍                                                   | 40/66 [00:09<00:05,  4.56it/s]\u001b[A\n",
      "Creating dataset:  62%|█████████████████████████████████████████████████████████████████████████████████▍                                                 | 41/66 [00:09<00:05,  4.75it/s]\u001b[A\n",
      "Creating dataset:  64%|███████████████████████████████████████████████████████████████████████████████████▎                                               | 42/66 [00:09<00:05,  4.68it/s]\u001b[A\n",
      "Creating dataset:  65%|█████████████████████████████████████████████████████████████████████████████████████▎                                             | 43/66 [00:09<00:04,  4.64it/s]\u001b[A\n",
      "Creating dataset:  67%|███████████████████████████████████████████████████████████████████████████████████████▎                                           | 44/66 [00:10<00:04,  4.62it/s]\u001b[A\n",
      "Creating dataset:  68%|█████████████████████████████████████████████████████████████████████████████████████████▎                                         | 45/66 [00:10<00:04,  4.88it/s]\u001b[A\n",
      "Creating dataset:  70%|███████████████████████████████████████████████████████████████████████████████████████████▎                                       | 46/66 [00:10<00:04,  4.96it/s]\u001b[A\n",
      "Creating dataset:  71%|█████████████████████████████████████████████████████████████████████████████████████████████▎                                     | 47/66 [00:10<00:03,  5.13it/s]\u001b[A\n",
      "Creating dataset:  73%|███████████████████████████████████████████████████████████████████████████████████████████████▎                                   | 48/66 [00:10<00:03,  5.27it/s]\u001b[A\n",
      "Creating dataset:  74%|█████████████████████████████████████████████████████████████████████████████████████████████████▎                                 | 49/66 [00:11<00:03,  5.20it/s]\u001b[A\n",
      "Creating dataset:  76%|███████████████████████████████████████████████████████████████████████████████████████████████████▏                               | 50/66 [00:11<00:03,  5.12it/s]\u001b[A\n",
      "Creating dataset:  77%|█████████████████████████████████████████████████████████████████████████████████████████████████████▏                             | 51/66 [00:11<00:02,  5.25it/s]\u001b[A\n",
      "Creating dataset:  79%|███████████████████████████████████████████████████████████████████████████████████████████████████████▏                           | 52/66 [00:11<00:02,  5.28it/s]\u001b[A\n",
      "Creating dataset:  80%|█████████████████████████████████████████████████████████████████████████████████████████████████████████▏                         | 53/66 [00:11<00:02,  5.23it/s]\u001b[A\n",
      "Creating dataset:  82%|███████████████████████████████████████████████████████████████████████████████████████████████████████████▏                       | 54/66 [00:12<00:02,  5.14it/s]\u001b[A\n",
      "Creating dataset:  83%|█████████████████████████████████████████████████████████████████████████████████████████████████████████████▏                     | 55/66 [00:12<00:02,  5.24it/s]\u001b[A\n",
      "Creating dataset:  85%|███████████████████████████████████████████████████████████████████████████████████████████████████████████████▏                   | 56/66 [00:12<00:01,  5.13it/s]\u001b[A\n",
      "Creating dataset:  86%|█████████████████████████████████████████████████████████████████████████████████████████████████████████████████▏                 | 57/66 [00:12<00:01,  4.75it/s]\u001b[A\n",
      "Creating dataset:  88%|███████████████████████████████████████████████████████████████████████████████████████████████████████████████████                | 58/66 [00:12<00:01,  4.70it/s]\u001b[A\n",
      "Creating dataset:  89%|█████████████████████████████████████████████████████████████████████████████████████████████████████████████████████              | 59/66 [00:13<00:01,  4.66it/s]\u001b[A\n",
      "Creating dataset:  91%|███████████████████████████████████████████████████████████████████████████████████████████████████████████████████████            | 60/66 [00:13<00:01,  4.66it/s]\u001b[A\n",
      "Creating dataset:  92%|█████████████████████████████████████████████████████████████████████████████████████████████████████████████████████████          | 61/66 [00:13<00:01,  4.25it/s]\u001b[A\n",
      "Creating dataset:  94%|███████████████████████████████████████████████████████████████████████████████████████████████████████████████████████████        | 62/66 [00:13<00:00,  4.08it/s]\u001b[A\n",
      "Creating dataset:  95%|█████████████████████████████████████████████████████████████████████████████████████████████████████████████████████████████      | 63/66 [00:14<00:00,  4.13it/s]\u001b[A\n",
      "Creating dataset:  97%|███████████████████████████████████████████████████████████████████████████████████████████████████████████████████████████████    | 64/66 [00:14<00:00,  4.23it/s]\u001b[A\n",
      "Creating dataset:  98%|█████████████████████████████████████████████████████████████████████████████████████████████████████████████████████████████████  | 65/66 [00:14<00:00,  4.36it/s]\u001b[A\n",
      "Creating dataset: 100%|███████████████████████████████████████████████████████████████████████████████████████████████████████████████████████████████████| 66/66 [00:14<00:00,  4.45it/s]\u001b[A\n",
      "Extracting dataset from .h5 file:  57%|██████████████████████████████████████████████████████████████████▎                                                 | 8/14 [00:23<00:30,  5.16s/it]\n",
      "Creating dataset:   0%|                                                                                                                                             | 0/1 [00:00<?, ?it/s]\u001b[A\n",
      "Creating dataset: 100%|█████████████████████████████████████████████████████████████████████████████████████████████████████████████████████████████████████| 1/1 [00:00<00:00,  4.24it/s]\u001b[A\n",
      "Extracting dataset from .h5 file:  64%|██████████████████████████████████████████████████████████████████████████▌                                         | 9/14 [00:23<00:18,  3.63s/it]\n",
      "Creating dataset:   0%|                                                                                                                                             | 0/1 [00:00<?, ?it/s]\u001b[A\n",
      "Creating dataset: 100%|█████████████████████████████████████████████████████████████████████████████████████████████████████████████████████████████████████| 1/1 [00:00<00:00,  3.43it/s]\u001b[A\n",
      "Extracting dataset from .h5 file:  71%|██████████████████████████████████████████████████████████████████████████████████▏                                | 10/14 [00:24<00:10,  2.60s/it]\n",
      "Creating dataset:   0%|                                                                                                                                             | 0/1 [00:00<?, ?it/s]\u001b[A\n",
      "Creating dataset: 100%|█████████████████████████████████████████████████████████████████████████████████████████████████████████████████████████████████████| 1/1 [00:00<00:00,  4.22it/s]\u001b[A\n",
      "Extracting dataset from .h5 file:  79%|██████████████████████████████████████████████████████████████████████████████████████████▎                        | 11/14 [00:24<00:05,  1.88s/it]\n",
      "Creating dataset:   0%|                                                                                                                                             | 0/1 [00:00<?, ?it/s]\u001b[A\n",
      "Creating dataset: 100%|█████████████████████████████████████████████████████████████████████████████████████████████████████████████████████████████████████| 1/1 [00:00<00:00,  4.45it/s]\u001b[A\n",
      "Extracting dataset from .h5 file:  86%|██████████████████████████████████████████████████████████████████████████████████████████████████▌                | 12/14 [00:24<00:02,  1.38s/it]\n",
      "Creating dataset:   0%|                                                                                                                                             | 0/1 [00:00<?, ?it/s]\u001b[A\n",
      "Creating dataset: 100%|█████████████████████████████████████████████████████████████████████████████████████████████████████████████████████████████████████| 1/1 [00:00<00:00,  3.65it/s]\u001b[A\n",
      "Extracting dataset from .h5 file:  93%|██████████████████████████████████████████████████████████████████████████████████████████████████████████▊        | 13/14 [00:24<00:01,  1.04s/it]\n",
      "Creating dataset:   0%|                                                                                                                                             | 0/1 [00:00<?, ?it/s]\u001b[A\n",
      "Creating dataset: 100%|█████████████████████████████████████████████████████████████████████████████████████████████████████████████████████████████████████| 1/1 [00:00<00:00,  4.25it/s]\u001b[A\n",
      "Extracting dataset from .h5 file: 100%|███████████████████████████████████████████████████████████████████████████████████████████████████████████████████| 14/14 [00:25<00:00,  1.79s/it]\n"
     ]
    }
   ],
   "source": [
    "create_dataset(h5_dataset_path, output_path, N_VALIDATION, N_VERIFICATION, UNET_model_options=UNET_model_options, limit_height=600)"
   ]
  },
  {
   "cell_type": "markdown",
   "id": "101d3438-b91a-4b2d-9efc-f526596a65f6",
   "metadata": {},
   "source": [
    "By running this function, you'll see that it created three new folders on the chosen path:\n",
    " - Training: Samples used during the F-RCNN training\n",
    " - Validation: Samples used for validation purpouses during training - Total of `N_VALIDATION` full images\n",
    " - Verification: Samples used to evaluate the F-RCNN accuracy after the training step. Unseen data during training  - Total of `N_VERIFICATION` full images\n",
    "\n",
    "\n",
    "\n",
    "## Option 1\n",
    "**If the `UNET_model_options` <span style=\"color:red\">is not</span> defined**, the F-RCNN object detection is based on the original image. \n",
    "In this case, folder cotains 3 folders:\n",
    " - `contours`: Text files which contains coordinates and parameters of the contours\n",
    " - `debug`: All the labelled images from the `.h5` file\n",
    " - `images`: All the raw images from the `.h5` file\n",
    "\n",
    "## Option 2\n",
    "**If the `UNET_model_options` <span style=\"color:red\">is </span> defined**, the F-RCNN object detection is based on the U-Net (segmented) representation of the image. \n",
    "In this case, folder cotains 4 folders:\n",
    " - `contours`: Text files which contains coordinates and parameters of the contours\n",
    " - `debug`: All the labelled images from the `.h5` file\n",
    " - `images`: All the raw images from the `.h5` file\n",
    " - `masks`: U-Net segmented images from images originally labeled in the `.h5` file\n",
    "\n",
    "In both options, the folder created in this step should be sent to the `FRCNN/dataset` folder for training."
   ]
  }
 ],
 "metadata": {
  "kernelspec": {
   "display_name": "Python 3 (ipykernel)",
   "language": "python",
   "name": "python3"
  },
  "language_info": {
   "codemirror_mode": {
    "name": "ipython",
    "version": 3
   },
   "file_extension": ".py",
   "mimetype": "text/x-python",
   "name": "python",
   "nbconvert_exporter": "python",
   "pygments_lexer": "ipython3",
   "version": "3.10.14"
  }
 },
 "nbformat": 4,
 "nbformat_minor": 5
}
