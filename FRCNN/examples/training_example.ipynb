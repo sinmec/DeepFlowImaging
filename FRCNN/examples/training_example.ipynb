{
 "cells": [
  {
   "cell_type": "code",
   "execution_count": 1,
   "id": "f2d15ead-15b2-4dbe-9ab8-b252b4e46785",
   "metadata": {},
   "outputs": [],
   "source": [
    "import cv2\n",
    "import numpy as np\n",
    "import random\n",
    "import h5py as h5\n",
    "from pathlib import Path\n",
    "from keras.layers import Conv2D, MaxPooling2D\n",
    "from keras.layers import Input\n",
    "from keras.models import Model\n",
    "from keras.optimizers import Adam\n",
    "from keras.utils import plot_model\n",
    "from keras.callbacks import ModelCheckpoint\n",
    "from keras.callbacks import EarlyStopping\n",
    "from tensorflow.keras.utils import plot_model\n",
    "from tqdm import tqdm\n",
    "import tensorflow as tf\n"
   ]
  },
  {
   "cell_type": "markdown",
   "id": "52817b45-d508-436d-9426-c8871e4b7154",
   "metadata": {},
   "source": [
    "# Training the F-RCNN"
   ]
  },
  {
   "cell_type": "markdown",
   "id": "02f75659-2302-407a-b7d6-f9e798cddddf",
   "metadata": {},
   "source": [
    "## Importing auxiliary functions"
   ]
  },
  {
   "cell_type": "code",
   "execution_count": 2,
   "id": "38df3940-b87a-4dae-8f74-74584e6fd9fd",
   "metadata": {},
   "outputs": [],
   "source": [
    "import sys\n",
    "sys.path.append(\"..\") # TODO: fix"
   ]
  },
  {
   "cell_type": "code",
   "execution_count": 3,
   "id": "91479b3a-7d08-44b5-94c3-520a7e037470",
   "metadata": {},
   "outputs": [],
   "source": [
    "from training.read_dataset import read_dataset\n",
    "from training.create_anchors import create_anchors\n",
    "from training.calculate_bbox_intesect_over_union import calculate_bbox_intesect_over_union\n",
    "from training.evaluate_ious import evaluate_ious\n",
    "from training.create_samples_for_training import create_samples_for_training\n",
    "from training.parametrize_anchor_box_properties import parametrize_anchor_box_properties\n",
    "from training.losses import loss_cls, loss_reg\n",
    "from training.run import generate_validation_data\n",
    "from training.run import input_generator"
   ]
  },
  {
   "cell_type": "markdown",
   "id": "752570d2-d5df-414d-8945-cdeb27774b3d",
   "metadata": {},
   "source": [
    "## Defining the path of the dataset"
   ]
  },
  {
   "cell_type": "code",
   "execution_count": 4,
   "id": "5b3fff21-0896-48fa-b3c5-2fa7a9fce71f",
   "metadata": {},
   "outputs": [],
   "source": [
    "dataset_folder = Path(\"dataset_FRCNN\", \"Output\")"
   ]
  },
  {
   "cell_type": "markdown",
   "id": "ac844f6b-1f83-4eba-b2b3-3254382d6fe8",
   "metadata": {},
   "source": [
    "## Reading the dataset"
   ]
  },
  {
   "cell_type": "code",
   "execution_count": 5,
   "id": "1e51ade8-7a45-46a1-8128-4efe6533cd64",
   "metadata": {},
   "outputs": [],
   "source": [
    "IMG_SIZE = (256, 256)"
   ]
  },
  {
   "cell_type": "code",
   "execution_count": 6,
   "id": "58a03f2e-e97d-4452-9e02-e8601a95d65d",
   "metadata": {},
   "outputs": [],
   "source": [
    "images_train, bbox_datasets_train = read_dataset(\n",
    "    IMG_SIZE, dataset_folder, \"Training\"\n",
    ")\n",
    "\n",
    "images_val, bbox_datasets_val = read_dataset(\n",
    "    IMG_SIZE, dataset_folder, \"Validation\"\n",
    ")"
   ]
  },
  {
   "cell_type": "markdown",
   "id": "f9442705-43a9-4d6a-a75e-d601589d725b",
   "metadata": {},
   "source": [
    "## Shuffling the data"
   ]
  },
  {
   "cell_type": "code",
   "execution_count": 7,
   "id": "79f1ece1-1cb3-4a05-b18d-53b40d829d6d",
   "metadata": {},
   "outputs": [],
   "source": [
    "RANDOM_SEED = 13"
   ]
  },
  {
   "cell_type": "code",
   "execution_count": 8,
   "id": "a0e47de3-e187-49ae-9297-5964dee97538",
   "metadata": {},
   "outputs": [],
   "source": [
    "# Shuffling dataset\n",
    "N_dataset = images_train.shape[0]\n",
    "array_for_shuffling = np.arange(N_dataset, dtype=int)\n",
    "random.Random(RANDOM_SEED).shuffle(array_for_shuffling)\n",
    "\n",
    "# Shuffling images\n",
    "images_train = images_train[array_for_shuffling]\n",
    "\n",
    "# Shuffling bboxes\n",
    "bbox_datasets_new_train = []\n",
    "for new_index in array_for_shuffling:\n",
    "    bbox_datasets_new_train.append(bbox_datasets_train[new_index])\n",
    "bbox_datasets_train = bbox_datasets_new_train"
   ]
  },
  {
   "cell_type": "code",
   "execution_count": 9,
   "id": "ffbce458-0d72-437d-ab9c-d6e463aed554",
   "metadata": {},
   "outputs": [],
   "source": [
    "# Shuffling dataset\n",
    "N_val_dataset = images_val.shape[0]\n",
    "array_for_shuffling = np.arange(N_val_dataset, dtype=int)\n",
    "random.Random(RANDOM_SEED).shuffle(array_for_shuffling)\n",
    "\n",
    "# Shuffling images\n",
    "images_val = images_val[array_for_shuffling]\n",
    "\n",
    "# Shuffling bboxes\n",
    "bbox_datasetes_new_val = []\n",
    "for new_index in array_for_shuffling:\n",
    "    bbox_datasetes_new_val.append(bbox_datasets_val[new_index])\n",
    "bbox_datasets_val = bbox_datasetes_new_val"
   ]
  },
  {
   "cell_type": "code",
   "execution_count": 10,
   "id": "02f19b79-5a31-401a-9f55-6de48cb09618",
   "metadata": {},
   "outputs": [],
   "source": [
    "# Defining which image is used during training\n",
    "MODE = \"mask\"\n",
    "if MODE == \"mask\":\n",
    "    images_train = images_train[:,:,:,0]\n",
    "elif MODE == \"raw\":\n",
    "    images_train = images_train[:,:,:,1]"
   ]
  },
  {
   "cell_type": "code",
   "execution_count": 11,
   "id": "061dd166-3c14-4b9a-a997-068ec25d1aee",
   "metadata": {},
   "outputs": [],
   "source": [
    "# Defining which image is used during training\n",
    "MODE = \"mask\"\n",
    "if MODE == \"mask\":\n",
    "    images_val = images_val[:,:,:,0]\n",
    "elif MODE == \"raw\":\n",
    "    images_val = images_val[:,:,:,1]"
   ]
  },
  {
   "cell_type": "markdown",
   "id": "f073bf1f-d5ad-4a87-90e9-f43357a64aac",
   "metadata": {},
   "source": [
    "## Defining some parameters"
   ]
  },
  {
   "cell_type": "code",
   "execution_count": 12,
   "id": "10050384-3baa-4ff2-8e52-263b2c259ed9",
   "metadata": {},
   "outputs": [],
   "source": [
    "N_SUB = 8\n",
    "ANCHOR_REAL_SIZE = [16, 24, 32, 48, 64]\n",
    "POS_IOU_THRESHOLD = 0.50\n",
    "NEG_IOU_THRESHOLD = 0.1\n",
    "N_FILTERS = 16\n",
    "KERNEL_SIZE = 5\n",
    "\n",
    "ANCHOR_RATIOS = [0.5, 0.8, 1.0, 1.1]\n",
    "\n",
    "SHOW_N_POS = False\n",
    "POS_RATIO = 0.5\n",
    "N_SAMPLES = 30\n",
    "\n",
    "ADAM_LEARNING_RATE = 3.0e-4\n",
    "\n",
    "# Subscaling/Anchor values (2^n), ex: 1, 2, 4, 8, 16, 32\n",
    "N_SUB = 2\n",
    "\n",
    "# Defining anchor sizes\n",
    "ANCHOR_SIZES = np.array(ANCHOR_REAL_SIZE) // N_SUB\n",
    "\n",
    "# Defining number of anchors sized and rations\n",
    "N_ANCHORS =  len(ANCHOR_SIZES)\n",
    "N_RATIOS  =  len(ANCHOR_RATIOS)"
   ]
  },
  {
   "cell_type": "markdown",
   "id": "6b90d346-466d-46a7-9f37-0cbd65d6e5ef",
   "metadata": {},
   "source": [
    "## Defining the F-RCNN architecture"
   ]
  },
  {
   "cell_type": "code",
   "execution_count": 13,
   "id": "d6e6fcd2-68c5-4cc9-95ce-886a8f5920d3",
   "metadata": {},
   "outputs": [],
   "source": [
    "input_image = Input(shape=(IMG_SIZE[0],IMG_SIZE[1],1))\n",
    "\n",
    "conv_3_3_1 = Conv2D(\n",
    "    filters=N_FILTERS,\n",
    "    kernel_size=KERNEL_SIZE,\n",
    "    padding='same',\n",
    "    name=\"3x3-1\"\n",
    "    )(input_image)\n",
    "max_pool_1 = MaxPooling2D((2,2),\n",
    "                          name=\"max_pool_1\")(conv_3_3_1)\n",
    "\n",
    "conv_3_3_2 = Conv2D(\n",
    "    filters=N_FILTERS,\n",
    "    kernel_size=KERNEL_SIZE,\n",
    "    padding='same',\n",
    "    name=\"3x3-2\"\n",
    ")(max_pool_1)\n",
    "\n",
    "\n",
    "max_pool_2 = MaxPooling2D((2,2),\n",
    "                          name=\"max_pool_2\")(conv_3_3_2)\n",
    "\n",
    "conv_3_3_3 = Conv2D(\n",
    "    filters=N_FILTERS,\n",
    "    kernel_size=KERNEL_SIZE,\n",
    "    padding='same',\n",
    "    name=\"3x3-3\"\n",
    ")(max_pool_2)\n",
    "\n",
    "max_pool_3 = MaxPooling2D((2,2),\n",
    "                          name=\"max_pool_3\")(conv_3_3_3)\n",
    "\n",
    "conv_3_3_4 = Conv2D(\n",
    "    filters=N_FILTERS,\n",
    "    kernel_size=KERNEL_SIZE,\n",
    "    padding='same',\n",
    "    name=\"3x3-4\"\n",
    ")(max_pool_3)\n",
    "\n",
    "max_pool_4 = MaxPooling2D((2,2),\n",
    "                          name=\"max_pool_4\")(conv_3_3_4)\n",
    "\n",
    "conv_3_3_5 = Conv2D(\n",
    "    filters=N_FILTERS,\n",
    "    kernel_size=KERNEL_SIZE,\n",
    "    padding='same',\n",
    "    name=\"3x3-5\"\n",
    ")(max_pool_4)\n",
    "\n",
    "max_pool_5 = MaxPooling2D((2,2),\n",
    "                          name=\"max_pool_5\")(conv_3_3_5)\n",
    "\n",
    "conv_3_3_6 = Conv2D(\n",
    "    filters=N_FILTERS,\n",
    "    kernel_size=KERNEL_SIZE,\n",
    "    padding='same',\n",
    "    name=\"3x3-6\"\n",
    ")(max_pool_5)\n",
    "\n",
    "max_pool_6 = MaxPooling2D((2,2),\n",
    "                          name=\"max_pool_6\")(conv_3_3_6)"
   ]
  },
  {
   "cell_type": "code",
   "execution_count": 14,
   "id": "edc9f97e-291b-4e29-ac2d-04bf3b08ae55",
   "metadata": {},
   "outputs": [],
   "source": [
    "N_SUB = 8\n",
    "\n",
    "if N_SUB == 1:\n",
    "    last_layer = conv_3_3_1\n",
    "elif N_SUB == 2:\n",
    "    last_layer = max_pool_1\n",
    "elif N_SUB == 4:\n",
    "    last_layer = max_pool_2\n",
    "elif N_SUB == 8:\n",
    "    last_layer = max_pool_3\n",
    "elif N_SUB == 16:\n",
    "    last_layer = max_pool_4\n",
    "elif N_SUB == 32:\n",
    "    last_layer = max_pool_5"
   ]
  },
  {
   "cell_type": "code",
   "execution_count": 15,
   "id": "9b09bd49-4060-4f21-b871-476ac2cfe4c1",
   "metadata": {
    "scrolled": true
   },
   "outputs": [],
   "source": [
    "output_scores = Conv2D(\n",
    "    filters=N_ANCHORS * N_RATIOS,\n",
    "    kernel_size=(1, 1),\n",
    "    activation=\"sigmoid\",\n",
    "    kernel_initializer=\"uniform\",\n",
    "    name=\"l_reg\"\n",
    ")(last_layer)\n",
    "\n",
    "output_regressor = Conv2D(\n",
    "    filters=N_ANCHORS * N_RATIOS * 4,\n",
    "    kernel_size=(1, 1),\n",
    "    activation=\"linear\",\n",
    "    kernel_initializer=\"uniform\",\n",
    "    name=\"bb_reg\"\n",
    ")(last_layer)\n",
    "\n",
    "opt = Adam(learning_rate=ADAM_LEARNING_RATE)\n",
    "model = Model(inputs=[input_image], outputs=[output_scores, output_regressor])\n",
    "model.compile(optimizer=opt, loss={'l_reg':loss_cls, 'bb_reg':loss_reg})"
   ]
  },
  {
   "cell_type": "markdown",
   "id": "597ab4f4-e64a-413c-84d3-6cb4c619b74f",
   "metadata": {},
   "source": [
    "Below we can get a summary of the model. Alternatively (and recommended), you can check the F-RCNN architecture with Keras' `plot_model` function (see [here](https://keras.io/api/utils/model_plotting_utils/))."
   ]
  },
  {
   "cell_type": "code",
   "execution_count": 16,
   "id": "8761778e-cef1-4003-8219-9035bef81437",
   "metadata": {},
   "outputs": [
    {
     "name": "stdout",
     "output_type": "stream",
     "text": [
      "Model: \"functional_1\"\n",
      "__________________________________________________________________________________________________\n",
      "Layer (type)                    Output Shape         Param #     Connected to                     \n",
      "==================================================================================================\n",
      "input_1 (InputLayer)            [(None, 256, 256, 1) 0                                            \n",
      "__________________________________________________________________________________________________\n",
      "3x3-1 (Conv2D)                  (None, 256, 256, 16) 416         input_1[0][0]                    \n",
      "__________________________________________________________________________________________________\n",
      "max_pool_1 (MaxPooling2D)       (None, 128, 128, 16) 0           3x3-1[0][0]                      \n",
      "__________________________________________________________________________________________________\n",
      "3x3-2 (Conv2D)                  (None, 128, 128, 16) 6416        max_pool_1[0][0]                 \n",
      "__________________________________________________________________________________________________\n",
      "max_pool_2 (MaxPooling2D)       (None, 64, 64, 16)   0           3x3-2[0][0]                      \n",
      "__________________________________________________________________________________________________\n",
      "3x3-3 (Conv2D)                  (None, 64, 64, 16)   6416        max_pool_2[0][0]                 \n",
      "__________________________________________________________________________________________________\n",
      "max_pool_3 (MaxPooling2D)       (None, 32, 32, 16)   0           3x3-3[0][0]                      \n",
      "__________________________________________________________________________________________________\n",
      "l_reg (Conv2D)                  (None, 32, 32, 20)   340         max_pool_3[0][0]                 \n",
      "__________________________________________________________________________________________________\n",
      "bb_reg (Conv2D)                 (None, 32, 32, 80)   1360        max_pool_3[0][0]                 \n",
      "==================================================================================================\n",
      "Total params: 14,948\n",
      "Trainable params: 14,948\n",
      "Non-trainable params: 0\n",
      "__________________________________________________________________________________________________\n"
     ]
    }
   ],
   "source": [
    "model.summary()"
   ]
  },
  {
   "cell_type": "markdown",
   "id": "851aff2e-8b2c-4dbd-8a18-7deb1aec4292",
   "metadata": {},
   "source": [
    "## Training the model"
   ]
  },
  {
   "cell_type": "markdown",
   "id": "0a0f5889-98e3-40f8-b371-ca6e6798eb83",
   "metadata": {},
   "source": [
    "Now, we need to setup a few callbacks to be executed during training.\n",
    "\n",
    "The first one is the `early_stopping` callback, which defines a `PATIENCE` value to limit the number of running epochs (`EPOCHS`).\n",
    "\n",
    "The second one, `best_model`, is a callback to store the F-RCNN with the lowest validation loss."
   ]
  },
  {
   "cell_type": "code",
   "execution_count": 17,
   "id": "d7e69ef3-ef7e-4692-8952-c9726a47b5cf",
   "metadata": {},
   "outputs": [],
   "source": [
    "N_EPOCHS = 20\n",
    "N_PATIENCE = 5"
   ]
  },
  {
   "cell_type": "code",
   "execution_count": 18,
   "id": "429ad122-736b-4c78-8820-4f0864d04841",
   "metadata": {},
   "outputs": [],
   "source": [
    "N_VALIDATION_DATA = 2\n",
    "N_DATA_EPOCHS = 10\n",
    "DEBUG = False"
   ]
  },
  {
   "cell_type": "code",
   "execution_count": 19,
   "id": "1d738613-ce20-4bdf-ae10-221b55fba0e8",
   "metadata": {},
   "outputs": [],
   "source": [
    "# Defining the best fRCNN model name\n",
    "best_model_name = \"frcnn_synthetic_contours.keras\" # % (MODE, N_SUB)\n",
    "\n",
    "early_stopping = EarlyStopping(monitor='val_loss',\n",
    "                               mode='min',\n",
    "                               verbose=1,\n",
    "                               patience=N_PATIENCE)\n",
    "\n",
    "best_model = ModelCheckpoint(best_model_name,\n",
    "                              verbose=1,\n",
    "                              save_best_only=True,\n",
    "                              monitor='val_loss',\n",
    "                              mode='auto')"
   ]
  },
  {
   "cell_type": "markdown",
   "id": "7c78437b-3521-49f5-a459-efc731724436",
   "metadata": {},
   "source": [
    "On this function below, it will generate the validation data necessary to train the model."
   ]
  },
  {
   "cell_type": "code",
   "execution_count": 20,
   "id": "a75b804f-7944-4058-8935-6c209373a038",
   "metadata": {},
   "outputs": [
    {
     "name": "stdout",
     "output_type": "stream",
     "text": [
      "Number of validation images: 2\n"
     ]
    },
    {
     "name": "stderr",
     "output_type": "stream",
     "text": [
      "Generating validation data: 2it [00:01,  1.38it/s]\n"
     ]
    }
   ],
   "source": [
    "validation_data = generate_validation_data(images_val,\n",
    "                                           bbox_datasets_val,\n",
    "                                           IMG_SIZE,\n",
    "                                           N_SUB,\n",
    "                                           N_ANCHORS,\n",
    "                                           ANCHOR_SIZES,\n",
    "                                           ANCHOR_RATIOS,\n",
    "                                           N_RATIOS,\n",
    "                                           POS_IOU_THRESHOLD,\n",
    "                                           NEG_IOU_THRESHOLD,\n",
    "                                           DEBUG,\n",
    "                                           POS_RATIO,\n",
    "                                           N_SAMPLES,\n",
    "                                           SHOW_N_POS)"
   ]
  },
  {
   "cell_type": "markdown",
   "id": "3bd8e009-e13e-4e4f-b3f2-a3793b1db1d9",
   "metadata": {},
   "source": [
    "Now, it's time to train the model with our data."
   ]
  },
  {
   "cell_type": "code",
   "execution_count": 21,
   "id": "90ddd41d-6a10-40c4-844c-5911bc3a1f5e",
   "metadata": {},
   "outputs": [
    {
     "name": "stdout",
     "output_type": "stream",
     "text": [
      "[17 24 11 38 37 42 10 16  1  8]\n",
      "Epoch 1/20\n",
      "[17 24 11 38 37 42 10 16  1  8]\n",
      " 1/10 [==>...........................] - ETA: 0s - loss: 0.6931 - l_reg_loss: 0.6931 - bb_reg_loss: 0.0000e+00[17 24 11 38 37 42 10 16  1  8]\n",
      " 2/10 [=====>........................] - ETA: 1s - loss: 0.6931 - l_reg_loss: 0.6931 - bb_reg_loss: 2.8542e-08[17 24 11 38 37 42 10 16  1  8]\n",
      " 3/10 [========>.....................] - ETA: 1s - loss: 0.6930 - l_reg_loss: 0.6930 - bb_reg_loss: 3.5134e-08[17 24 11 38 37 42 10 16  1  8]\n",
      " 4/10 [===========>..................] - ETA: 1s - loss: 0.6929 - l_reg_loss: 0.6929 - bb_reg_loss: 3.8107e-08[17 24 11 38 37 42 10 16  1  8]\n",
      " 5/10 [==============>...............] - ETA: 1s - loss: 0.6928 - l_reg_loss: 0.6928 - bb_reg_loss: 4.2415e-08[17 24 11 38 37 42 10 16  1  8]\n",
      " 6/10 [=================>............] - ETA: 0s - loss: 0.6926 - l_reg_loss: 0.6926 - bb_reg_loss: 4.9221e-08[17 24 11 38 37 42 10 16  1  8]\n",
      " 7/10 [====================>.........] - ETA: 0s - loss: 0.6925 - l_reg_loss: 0.6925 - bb_reg_loss: 6.0378e-08[17 24 11 38 37 42 10 16  1  8]\n",
      " 8/10 [=======================>......] - ETA: 0s - loss: 0.6924 - l_reg_loss: 0.6924 - bb_reg_loss: 7.7648e-08[17 24 11 38 37 42 10 16  1  8]\n",
      " 9/10 [==========================>...] - ETA: 0s - loss: 0.6923 - l_reg_loss: 0.6923 - bb_reg_loss: 1.0409e-07[22 13  9  7 39 10 41 20 26 39]\n",
      "10/10 [==============================] - ETA: 0s - loss: nan - l_reg_loss: 0.6923 - bb_reg_loss: nan          \n",
      "Epoch 00001: val_loss improved from inf to 386.31979, saving model to frcnn_synthetic_contours.keras\n",
      "10/10 [==============================] - 3s 269ms/step - loss: nan - l_reg_loss: 0.6923 - bb_reg_loss: nan - val_loss: 386.3198 - val_l_reg_loss: 0.6928 - val_bb_reg_loss: 385.6270\n",
      "Epoch 2/20\n",
      "[22 13  9  7 39 10 41 20 26 39]\n",
      " 1/10 [==>...........................] - ETA: 0s - loss: 0.6907 - l_reg_loss: 0.6907 - bb_reg_loss: 6.5335e-07[22 13  9  7 39 10 41 20 26 39]\n",
      " 2/10 [=====>........................] - ETA: 1s - loss: 0.6906 - l_reg_loss: 0.6906 - bb_reg_loss: 7.3934e-07[22 13  9  7 39 10 41 20 26 39]\n",
      " 3/10 [========>.....................] - ETA: 1s - loss: 0.6904 - l_reg_loss: 0.6904 - bb_reg_loss: 8.4340e-07[22 13  9  7 39 10 41 20 26 39]\n",
      " 4/10 [===========>..................] - ETA: 1s - loss: 0.6903 - l_reg_loss: 0.6903 - bb_reg_loss: 9.7108e-07[22 13  9  7 39 10 41 20 26 39]\n",
      " 5/10 [==============>...............] - ETA: 1s - loss: 0.6901 - l_reg_loss: 0.6901 - bb_reg_loss: 1.1278e-06[22 13  9  7 39 10 41 20 26 39]\n",
      " 6/10 [=================>............] - ETA: 0s - loss: 0.6899 - l_reg_loss: 0.6899 - bb_reg_loss: 1.3212e-06[22 13  9  7 39 10 41 20 26 39]\n",
      " 7/10 [====================>.........] - ETA: 0s - loss: 0.6897 - l_reg_loss: 0.6897 - bb_reg_loss: 1.5605e-06[22 13  9  7 39 10 41 20 26 39]\n",
      " 8/10 [=======================>......] - ETA: 0s - loss: 0.6895 - l_reg_loss: 0.6895 - bb_reg_loss: 1.8564e-06[22 13  9  7 39 10 41 20 26 39]\n",
      " 9/10 [==========================>...] - ETA: 0s - loss: 0.6893 - l_reg_loss: 0.6893 - bb_reg_loss: 2.2217e-06[ 1 28 11 31  6 14  2 38 33  1]\n",
      "10/10 [==============================] - ETA: 0s - loss: nan - l_reg_loss: 0.6891 - bb_reg_loss: nan          \n",
      "Epoch 00002: val_loss improved from 386.31979 to 386.31152, saving model to frcnn_synthetic_contours.keras\n",
      "10/10 [==============================] - 3s 252ms/step - loss: nan - l_reg_loss: 0.6891 - bb_reg_loss: nan - val_loss: 386.3115 - val_l_reg_loss: 0.6865 - val_bb_reg_loss: 385.6250\n",
      "Epoch 3/20\n",
      "[ 1 28 11 31  6 14  2 38 33  1]\n",
      " 1/10 [==>...........................] - ETA: 0s - loss: 0.6864 - l_reg_loss: 0.6864 - bb_reg_loss: 8.4030e-06[ 1 28 11 31  6 14  2 38 33  1]\n",
      " 2/10 [=====>........................] - ETA: 1s - loss: 0.6861 - l_reg_loss: 0.6861 - bb_reg_loss: 9.4272e-06[ 1 28 11 31  6 14  2 38 33  1]\n",
      " 3/10 [========>.....................] - ETA: 1s - loss: 0.6858 - l_reg_loss: 0.6857 - bb_reg_loss: 1.0589e-05[ 1 28 11 31  6 14  2 38 33  1]\n",
      " 4/10 [===========>..................] - ETA: 1s - loss: 0.6854 - l_reg_loss: 0.6854 - bb_reg_loss: 1.1901e-05[ 1 28 11 31  6 14  2 38 33  1]\n",
      " 5/10 [==============>...............] - ETA: 1s - loss: 0.6850 - l_reg_loss: 0.6849 - bb_reg_loss: 1.3374e-05[ 1 28 11 31  6 14  2 38 33  1]\n",
      " 6/10 [=================>............] - ETA: 0s - loss: 0.6845 - l_reg_loss: 0.6845 - bb_reg_loss: 1.5018e-05[ 1 28 11 31  6 14  2 38 33  1]\n",
      " 7/10 [====================>.........] - ETA: 0s - loss: 0.6840 - l_reg_loss: 0.6840 - bb_reg_loss: 1.6838e-05[ 1 28 11 31  6 14  2 38 33  1]\n",
      " 8/10 [=======================>......] - ETA: 0s - loss: 0.6835 - l_reg_loss: 0.6835 - bb_reg_loss: 1.8836e-05[ 1 28 11 31  6 14  2 38 33  1]\n",
      " 9/10 [==========================>...] - ETA: 0s - loss: 0.6829 - l_reg_loss: 0.6829 - bb_reg_loss: 2.1007e-05[ 7  7 35  6  7 27 10 34 43 41]\n",
      "10/10 [==============================] - ETA: 0s - loss: nan - l_reg_loss: 0.6818 - bb_reg_loss: nan          \n",
      "Epoch 00003: val_loss improved from 386.31152 to 386.29367, saving model to frcnn_synthetic_contours.keras\n",
      "10/10 [==============================] - 3s 250ms/step - loss: nan - l_reg_loss: 0.6818 - bb_reg_loss: nan - val_loss: 386.2937 - val_l_reg_loss: 0.6709 - val_bb_reg_loss: 385.6228\n",
      "Epoch 4/20\n",
      "[ 7  7 35  6  7 27 10 34 43 41]\n",
      " 1/10 [==>...........................] - ETA: 0s - loss: 0.6749 - l_reg_loss: 0.6749 - bb_reg_loss: 4.9225e-05[ 7  7 35  6  7 27 10 34 43 41]\n",
      " 2/10 [=====>........................] - ETA: 1s - loss: 0.6740 - l_reg_loss: 0.6739 - bb_reg_loss: 5.1594e-05[ 7  7 35  6  7 27 10 34 43 41]\n",
      " 3/10 [========>.....................] - ETA: 1s - loss: 0.6730 - l_reg_loss: 0.6729 - bb_reg_loss: 5.3826e-05[ 7  7 35  6  7 27 10 34 43 41]\n",
      " 4/10 [===========>..................] - ETA: 1s - loss: 0.6719 - l_reg_loss: 0.6718 - bb_reg_loss: 5.5868e-05[ 7  7 35  6  7 27 10 34 43 41]\n",
      " 5/10 [==============>...............] - ETA: 1s - loss: 0.6707 - l_reg_loss: 0.6706 - bb_reg_loss: 5.7668e-05[ 7  7 35  6  7 27 10 34 43 41]\n",
      " 6/10 [=================>............] - ETA: 0s - loss: 0.6694 - l_reg_loss: 0.6693 - bb_reg_loss: 5.9184e-05[ 7  7 35  6  7 27 10 34 43 41]\n",
      " 7/10 [====================>.........] - ETA: 0s - loss: 0.6680 - l_reg_loss: 0.6680 - bb_reg_loss: 6.0399e-05[ 7  7 35  6  7 27 10 34 43 41]\n",
      " 8/10 [=======================>......] - ETA: 0s - loss: 0.6665 - l_reg_loss: 0.6665 - bb_reg_loss: 6.1305e-05[ 7  7 35  6  7 27 10 34 43 41]\n",
      " 9/10 [==========================>...] - ETA: 0s - loss: 0.6649 - l_reg_loss: 0.6648 - bb_reg_loss: 6.1900e-05[ 1 27  6 42 16 14 10  3 39 44]\n",
      "10/10 [==============================] - ETA: 0s - loss: nan - l_reg_loss: 0.6619 - bb_reg_loss: nan          \n",
      "Epoch 00004: val_loss improved from 386.29367 to 386.24936, saving model to frcnn_synthetic_contours.keras\n",
      "10/10 [==============================] - 2s 248ms/step - loss: nan - l_reg_loss: 0.6619 - bb_reg_loss: nan - val_loss: 386.2494 - val_l_reg_loss: 0.6258 - val_bb_reg_loss: 385.6236\n",
      "Epoch 5/20\n",
      "[ 1 27  6 42 16 14 10  3 39 44]\n",
      " 1/10 [==>...........................] - ETA: 0s - loss: 0.6428 - l_reg_loss: 0.6428 - bb_reg_loss: 6.4815e-05[ 1 27  6 42 16 14 10  3 39 44]\n",
      " 2/10 [=====>........................] - ETA: 1s - loss: 0.6402 - l_reg_loss: 0.6401 - bb_reg_loss: 6.3733e-05[ 1 27  6 42 16 14 10  3 39 44]\n",
      " 3/10 [========>.....................] - ETA: 1s - loss: 0.6374 - l_reg_loss: 0.6373 - bb_reg_loss: 6.1937e-05[ 1 27  6 42 16 14 10  3 39 44]\n",
      " 4/10 [===========>..................] - ETA: 1s - loss: 0.6344 - l_reg_loss: 0.6344 - bb_reg_loss: 5.9556e-05[ 1 27  6 42 16 14 10  3 39 44]\n",
      " 5/10 [==============>...............] - ETA: 1s - loss: 0.6312 - l_reg_loss: 0.6312 - bb_reg_loss: 5.6998e-05[ 1 27  6 42 16 14 10  3 39 44]\n",
      " 6/10 [=================>............] - ETA: 0s - loss: 0.6279 - l_reg_loss: 0.6278 - bb_reg_loss: 5.4543e-05[ 1 27  6 42 16 14 10  3 39 44]\n",
      " 7/10 [====================>.........] - ETA: 0s - loss: 0.6243 - l_reg_loss: 0.6242 - bb_reg_loss: 5.2553e-05[ 1 27  6 42 16 14 10  3 39 44]\n",
      " 8/10 [=======================>......] - ETA: 0s - loss: 0.6205 - l_reg_loss: 0.6204 - bb_reg_loss: 5.1210e-05[ 1 27  6 42 16 14 10  3 39 44]\n",
      " 9/10 [==========================>...] - ETA: 0s - loss: 0.6164 - l_reg_loss: 0.6164 - bb_reg_loss: 5.0621e-05[35 14 43 33 23  2 34 35 14 41]\n",
      "10/10 [==============================] - ETA: 0s - loss: nan - l_reg_loss: 0.6086 - bb_reg_loss: nan          \n",
      "Epoch 00005: val_loss improved from 386.24936 to 386.14697, saving model to frcnn_synthetic_contours.keras\n",
      "10/10 [==============================] - 2s 244ms/step - loss: nan - l_reg_loss: 0.6086 - bb_reg_loss: nan - val_loss: 386.1470 - val_l_reg_loss: 0.5175 - val_bb_reg_loss: 385.6295\n",
      "Epoch 6/20\n",
      "[35 14 43 33 23  2 34 35 14 41]\n",
      " 1/10 [==>...........................] - ETA: 0s - loss: 0.5631 - l_reg_loss: 0.5630 - bb_reg_loss: 7.4556e-05[35 14 43 33 23  2 34 35 14 41]\n",
      " 2/10 [=====>........................] - ETA: 1s - loss: 0.5573 - l_reg_loss: 0.5572 - bb_reg_loss: 7.8611e-05[35 14 43 33 23  2 34 35 14 41]\n",
      " 3/10 [========>.....................] - ETA: 1s - loss: 0.5511 - l_reg_loss: 0.5511 - bb_reg_loss: 8.3990e-05[35 14 43 33 23  2 34 35 14 41]\n",
      " 4/10 [===========>..................] - ETA: 1s - loss: 0.5447 - l_reg_loss: 0.5447 - bb_reg_loss: 8.7179e-05[35 14 43 33 23  2 34 35 14 41]\n",
      " 5/10 [==============>...............] - ETA: 1s - loss: 0.5381 - l_reg_loss: 0.5380 - bb_reg_loss: 8.9930e-05[35 14 43 33 23  2 34 35 14 41]\n",
      " 6/10 [=================>............] - ETA: 0s - loss: 0.5312 - l_reg_loss: 0.5311 - bb_reg_loss: 9.1194e-05[35 14 43 33 23  2 34 35 14 41]\n",
      " 7/10 [====================>.........] - ETA: 0s - loss: 0.5240 - l_reg_loss: 0.5239 - bb_reg_loss: 9.3464e-05[35 14 43 33 23  2 34 35 14 41]\n",
      " 8/10 [=======================>......] - ETA: 0s - loss: 0.5165 - l_reg_loss: 0.5164 - bb_reg_loss: 9.6878e-05[35 14 43 33 23  2 34 35 14 41]\n",
      " 9/10 [==========================>...] - ETA: 0s - loss: 0.5088 - l_reg_loss: 0.5087 - bb_reg_loss: 1.0147e-04[16 10 42 23  4 16 43 38 40 43]\n",
      "10/10 [==============================] - ETA: 0s - loss: nan - l_reg_loss: 0.4948 - bb_reg_loss: nan          \n",
      "Epoch 00006: val_loss improved from 386.14697 to 385.95435, saving model to frcnn_synthetic_contours.keras\n",
      "10/10 [==============================] - 2s 249ms/step - loss: nan - l_reg_loss: 0.4948 - bb_reg_loss: nan - val_loss: 385.9543 - val_l_reg_loss: 0.3339 - val_bb_reg_loss: 385.6204\n",
      "Epoch 7/20\n",
      "[16 10 42 23  4 16 43 38 40 43]\n",
      " 1/10 [==>...........................] - ETA: 0s - loss: 0.4118 - l_reg_loss: 0.4116 - bb_reg_loss: 1.9412e-04[16 10 42 23  4 16 43 38 40 43]\n",
      " 2/10 [=====>........................] - ETA: 1s - loss: 0.4025 - l_reg_loss: 0.4023 - bb_reg_loss: 1.9161e-04[16 10 42 23  4 16 43 38 40 43]\n",
      " 3/10 [========>.....................] - ETA: 1s - loss: 0.3931 - l_reg_loss: 0.3929 - bb_reg_loss: 1.9836e-04[16 10 42 23  4 16 43 38 40 43]\n",
      " 4/10 [===========>..................] - ETA: 1s - loss: 0.3835 - l_reg_loss: 0.3833 - bb_reg_loss: 2.0320e-04[16 10 42 23  4 16 43 38 40 43]\n",
      " 5/10 [==============>...............] - ETA: 1s - loss: 0.3739 - l_reg_loss: 0.3736 - bb_reg_loss: 2.1223e-04[16 10 42 23  4 16 43 38 40 43]\n",
      " 6/10 [=================>............] - ETA: 0s - loss: 0.3642 - l_reg_loss: 0.3639 - bb_reg_loss: 2.2044e-04[16 10 42 23  4 16 43 38 40 43]\n",
      " 7/10 [====================>.........] - ETA: 0s - loss: 0.3544 - l_reg_loss: 0.3542 - bb_reg_loss: 2.3152e-04[16 10 42 23  4 16 43 38 40 43]\n",
      " 8/10 [=======================>......] - ETA: 0s - loss: 0.3447 - l_reg_loss: 0.3445 - bb_reg_loss: 2.4175e-04[16 10 42 23  4 16 43 38 40 43]\n",
      " 9/10 [==========================>...] - ETA: 0s - loss: 0.3350 - l_reg_loss: 0.3347 - bb_reg_loss: 2.5337e-04[35 18 23  2 35 43  4  2 17 19]\n",
      "10/10 [==============================] - ETA: 0s - loss: nan - l_reg_loss: 0.3194 - bb_reg_loss: nan          \n",
      "Epoch 00007: val_loss improved from 385.95435 to 385.77402, saving model to frcnn_synthetic_contours.keras\n",
      "10/10 [==============================] - 2s 250ms/step - loss: nan - l_reg_loss: 0.3194 - bb_reg_loss: nan - val_loss: 385.7740 - val_l_reg_loss: 0.1515 - val_bb_reg_loss: 385.6226\n",
      "Epoch 8/20\n",
      "[35 18 23  2 35 43  4  2 17 19]\n",
      " 1/10 [==>...........................] - ETA: 0s - loss: 0.2217 - l_reg_loss: 0.2213 - bb_reg_loss: 4.5099e-04[35 18 23  2 35 43  4  2 17 19]\n",
      " 2/10 [=====>........................] - ETA: 1s - loss: 0.2131 - l_reg_loss: 0.2127 - bb_reg_loss: 4.4500e-04[35 18 23  2 35 43  4  2 17 19]\n",
      " 3/10 [========>.....................] - ETA: 1s - loss: 0.2048 - l_reg_loss: 0.2043 - bb_reg_loss: 4.6281e-04[35 18 23  2 35 43  4  2 17 19]\n",
      " 4/10 [===========>..................] - ETA: 1s - loss: 0.1967 - l_reg_loss: 0.1962 - bb_reg_loss: 4.7430e-04[35 18 23  2 35 43  4  2 17 19]\n",
      " 5/10 [==============>...............] - ETA: 1s - loss: 0.1888 - l_reg_loss: 0.1883 - bb_reg_loss: 4.8868e-04[35 18 23  2 35 43  4  2 17 19]\n",
      " 6/10 [=================>............] - ETA: 0s - loss: 0.1813 - l_reg_loss: 0.1808 - bb_reg_loss: 5.0424e-04[35 18 23  2 35 43  4  2 17 19]\n",
      " 7/10 [====================>.........] - ETA: 0s - loss: 0.1740 - l_reg_loss: 0.1735 - bb_reg_loss: 5.1968e-04[35 18 23  2 35 43  4  2 17 19]\n",
      " 8/10 [=======================>......] - ETA: 0s - loss: 0.1671 - l_reg_loss: 0.1666 - bb_reg_loss: 5.3499e-04[35 18 23  2 35 43  4  2 17 19]\n",
      " 9/10 [==========================>...] - ETA: 0s - loss: 0.1604 - l_reg_loss: 0.1599 - bb_reg_loss: 5.4997e-04[35 41 24 17  5 44  4 38 12 42]\n",
      "10/10 [==============================] - ETA: 0s - loss: nan - l_reg_loss: 0.1495 - bb_reg_loss: nan          \n",
      "Epoch 00008: val_loss improved from 385.77402 to 385.68115, saving model to frcnn_synthetic_contours.keras\n",
      "10/10 [==============================] - 2s 245ms/step - loss: nan - l_reg_loss: 0.1495 - bb_reg_loss: nan - val_loss: 385.6812 - val_l_reg_loss: 0.0532 - val_bb_reg_loss: 385.6280\n",
      "Epoch 9/20\n",
      "[35 41 24 17  5 44  4 38 12 42]\n",
      " 1/10 [==>...........................] - ETA: 0s - loss: 0.0884 - l_reg_loss: 0.0875 - bb_reg_loss: 9.2126e-04[35 41 24 17  5 44  4 38 12 42]\n",
      " 2/10 [=====>........................] - ETA: 1s - loss: 0.0842 - l_reg_loss: 0.0833 - bb_reg_loss: 8.8050e-04[35 41 24 17  5 44  4 38 12 42]\n",
      " 3/10 [========>.....................] - ETA: 1s - loss: 0.0803 - l_reg_loss: 0.0794 - bb_reg_loss: 8.8907e-04[35 41 24 17  5 44  4 38 12 42]\n",
      " 4/10 [===========>..................] - ETA: 1s - loss: 0.0766 - l_reg_loss: 0.0757 - bb_reg_loss: 8.9347e-04[35 41 24 17  5 44  4 38 12 42]\n",
      " 5/10 [==============>...............] - ETA: 1s - loss: 0.0731 - l_reg_loss: 0.0722 - bb_reg_loss: 9.0089e-04[35 41 24 17  5 44  4 38 12 42]\n",
      " 6/10 [=================>............] - ETA: 0s - loss: 0.0699 - l_reg_loss: 0.0690 - bb_reg_loss: 9.1059e-04[35 41 24 17  5 44  4 38 12 42]\n",
      " 7/10 [====================>.........] - ETA: 0s - loss: 0.0669 - l_reg_loss: 0.0660 - bb_reg_loss: 9.1898e-04[35 41 24 17  5 44  4 38 12 42]\n",
      " 8/10 [=======================>......] - ETA: 0s - loss: 0.0640 - l_reg_loss: 0.0631 - bb_reg_loss: 9.2847e-04[35 41 24 17  5 44  4 38 12 42]\n",
      " 9/10 [==========================>...] - ETA: 0s - loss: 0.0614 - l_reg_loss: 0.0604 - bb_reg_loss: 9.3625e-04[ 3  4 25 31 18 44 30  7 32 18]\n",
      "10/10 [==============================] - ETA: 0s - loss: nan - l_reg_loss: 0.0563 - bb_reg_loss: nan          \n",
      "Epoch 00009: val_loss improved from 385.68115 to 385.59796, saving model to frcnn_synthetic_contours.keras\n",
      "10/10 [==============================] - 2s 249ms/step - loss: nan - l_reg_loss: 0.0563 - bb_reg_loss: nan - val_loss: 385.5980 - val_l_reg_loss: 0.0192 - val_bb_reg_loss: 385.5788\n",
      "Epoch 10/20\n",
      "[ 3  4 25 31 18 44 30  7 32 18]\n",
      " 1/10 [==>...........................] - ETA: 0s - loss: 0.0338 - l_reg_loss: 0.0325 - bb_reg_loss: 0.0013[ 3  4 25 31 18 44 30  7 32 18]\n",
      " 2/10 [=====>........................] - ETA: 1s - loss: 0.0323 - l_reg_loss: 0.0311 - bb_reg_loss: 0.0012[ 3  4 25 31 18 44 30  7 32 18]\n",
      " 3/10 [========>.....................] - ETA: 1s - loss: 0.0310 - l_reg_loss: 0.0298 - bb_reg_loss: 0.0012[ 3  4 25 31 18 44 30  7 32 18]\n",
      " 4/10 [===========>..................] - ETA: 1s - loss: 0.0297 - l_reg_loss: 0.0285 - bb_reg_loss: 0.0012[ 3  4 25 31 18 44 30  7 32 18]\n",
      " 5/10 [==============>...............] - ETA: 1s - loss: 0.0286 - l_reg_loss: 0.0274 - bb_reg_loss: 0.0012[ 3  4 25 31 18 44 30  7 32 18]\n",
      " 6/10 [=================>............] - ETA: 0s - loss: 0.0275 - l_reg_loss: 0.0263 - bb_reg_loss: 0.0012[ 3  4 25 31 18 44 30  7 32 18]\n",
      " 7/10 [====================>.........] - ETA: 0s - loss: 0.0265 - l_reg_loss: 0.0253 - bb_reg_loss: 0.0012[ 3  4 25 31 18 44 30  7 32 18]\n",
      " 8/10 [=======================>......] - ETA: 0s - loss: 0.0256 - l_reg_loss: 0.0244 - bb_reg_loss: 0.0012[ 3  4 25 31 18 44 30  7 32 18]\n",
      " 9/10 [==========================>...] - ETA: 0s - loss: 0.0247 - l_reg_loss: 0.0235 - bb_reg_loss: 0.0012[25 38 37 28 18 40 43  4 17 44]\n",
      "10/10 [==============================] - ETA: 0s - loss: nan - l_reg_loss: 0.0222 - bb_reg_loss: nan      \n",
      "Epoch 00010: val_loss did not improve from 385.59796\n",
      "10/10 [==============================] - 3s 255ms/step - loss: nan - l_reg_loss: 0.0222 - bb_reg_loss: nan - val_loss: 385.6117 - val_l_reg_loss: 0.0087 - val_bb_reg_loss: 385.6030\n",
      "Epoch 11/20\n",
      "[25 38 37 28 18 40 43  4 17 44]\n",
      " 1/10 [==>...........................] - ETA: 0s - loss: 0.0159 - l_reg_loss: 0.0144 - bb_reg_loss: 0.0015[25 38 37 28 18 40 43  4 17 44]\n",
      " 2/10 [=====>........................] - ETA: 1s - loss: 0.0153 - l_reg_loss: 0.0140 - bb_reg_loss: 0.0013[25 38 37 28 18 40 43  4 17 44]\n",
      " 3/10 [========>.....................] - ETA: 1s - loss: 0.0148 - l_reg_loss: 0.0135 - bb_reg_loss: 0.0013[25 38 37 28 18 40 43  4 17 44]\n",
      " 4/10 [===========>..................] - ETA: 1s - loss: 0.0144 - l_reg_loss: 0.0131 - bb_reg_loss: 0.0013[25 38 37 28 18 40 43  4 17 44]\n",
      " 5/10 [==============>...............] - ETA: 1s - loss: 0.0140 - l_reg_loss: 0.0127 - bb_reg_loss: 0.0012[25 38 37 28 18 40 43  4 17 44]\n",
      " 6/10 [=================>............] - ETA: 0s - loss: 0.0136 - l_reg_loss: 0.0124 - bb_reg_loss: 0.0012[25 38 37 28 18 40 43  4 17 44]\n",
      " 7/10 [====================>.........] - ETA: 0s - loss: 0.0132 - l_reg_loss: 0.0120 - bb_reg_loss: 0.0012[25 38 37 28 18 40 43  4 17 44]\n",
      " 8/10 [=======================>......] - ETA: 0s - loss: 0.0129 - l_reg_loss: 0.0117 - bb_reg_loss: 0.0012[25 38 37 28 18 40 43  4 17 44]\n",
      " 9/10 [==========================>...] - ETA: 0s - loss: 0.0126 - l_reg_loss: 0.0114 - bb_reg_loss: 0.0012[ 0 29 17  8 10 28  7 24 15 38]\n",
      "10/10 [==============================] - ETA: 0s - loss: nan - l_reg_loss: 0.0110 - bb_reg_loss: nan      \n",
      "Epoch 00011: val_loss did not improve from 385.59796\n",
      "10/10 [==============================] - 3s 251ms/step - loss: nan - l_reg_loss: 0.0110 - bb_reg_loss: nan - val_loss: 385.6033 - val_l_reg_loss: 0.0050 - val_bb_reg_loss: 385.5983\n",
      "Epoch 12/20\n",
      "[ 0 29 17  8 10 28  7 24 15 38]\n",
      " 1/10 [==>...........................] - ETA: 0s - loss: 0.0094 - l_reg_loss: 0.0082 - bb_reg_loss: 0.0013[ 0 29 17  8 10 28  7 24 15 38]\n",
      " 2/10 [=====>........................] - ETA: 1s - loss: 0.0091 - l_reg_loss: 0.0080 - bb_reg_loss: 0.0011[ 0 29 17  8 10 28  7 24 15 38]\n",
      " 3/10 [========>.....................] - ETA: 1s - loss: 0.0089 - l_reg_loss: 0.0078 - bb_reg_loss: 0.0011[ 0 29 17  8 10 28  7 24 15 38]\n",
      " 4/10 [===========>..................] - ETA: 1s - loss: 0.0087 - l_reg_loss: 0.0077 - bb_reg_loss: 0.0011[ 0 29 17  8 10 28  7 24 15 38]\n",
      " 5/10 [==============>...............] - ETA: 1s - loss: 0.0085 - l_reg_loss: 0.0075 - bb_reg_loss: 0.0010[ 0 29 17  8 10 28  7 24 15 38]\n",
      " 6/10 [=================>............] - ETA: 0s - loss: 0.0084 - l_reg_loss: 0.0074 - bb_reg_loss: 0.0010[ 0 29 17  8 10 28  7 24 15 38]\n",
      " 7/10 [====================>.........] - ETA: 0s - loss: 0.0082 - l_reg_loss: 0.0072 - bb_reg_loss: 0.0010[ 0 29 17  8 10 28  7 24 15 38]\n",
      " 8/10 [=======================>......] - ETA: 0s - loss: 0.0081 - l_reg_loss: 0.0071 - bb_reg_loss: 9.8139e-04[ 0 29 17  8 10 28  7 24 15 38]\n",
      " 9/10 [==========================>...] - ETA: 0s - loss: 0.0079 - l_reg_loss: 0.0069 - bb_reg_loss: 9.6878e-04[ 3 41 13 18 32  2 43  3  3 42]\n",
      "10/10 [==============================] - ETA: 0s - loss: nan - l_reg_loss: 0.0067 - bb_reg_loss: nan          \n",
      "Epoch 00012: val_loss did not improve from 385.59796\n",
      "10/10 [==============================] - 2s 243ms/step - loss: nan - l_reg_loss: 0.0067 - bb_reg_loss: nan - val_loss: 385.6139 - val_l_reg_loss: 0.0035 - val_bb_reg_loss: 385.6105\n",
      "Epoch 13/20\n",
      "[ 3 41 13 18 32  2 43  3  3 42]\n",
      " 1/10 [==>...........................] - ETA: 0s - loss: 0.0065 - l_reg_loss: 0.0056 - bb_reg_loss: 9.3049e-04[ 3 41 13 18 32  2 43  3  3 42]\n",
      " 2/10 [=====>........................] - ETA: 1s - loss: 0.0063 - l_reg_loss: 0.0055 - bb_reg_loss: 8.3249e-04[ 3 41 13 18 32  2 43  3  3 42]\n",
      " 3/10 [========>.....................] - ETA: 1s - loss: 0.0062 - l_reg_loss: 0.0054 - bb_reg_loss: 8.2753e-04[ 3 41 13 18 32  2 43  3  3 42]\n",
      " 4/10 [===========>..................] - ETA: 1s - loss: 0.0061 - l_reg_loss: 0.0053 - bb_reg_loss: 8.0646e-04[ 3 41 13 18 32  2 43  3  3 42]\n",
      " 5/10 [==============>...............] - ETA: 1s - loss: 0.0060 - l_reg_loss: 0.0052 - bb_reg_loss: 7.8802e-04[ 3 41 13 18 32  2 43  3  3 42]\n",
      " 6/10 [=================>............] - ETA: 0s - loss: 0.0059 - l_reg_loss: 0.0052 - bb_reg_loss: 7.7611e-04[ 3 41 13 18 32  2 43  3  3 42]\n",
      " 7/10 [====================>.........] - ETA: 0s - loss: 0.0059 - l_reg_loss: 0.0051 - bb_reg_loss: 7.6083e-04[ 3 41 13 18 32  2 43  3  3 42]\n",
      " 8/10 [=======================>......] - ETA: 0s - loss: 0.0058 - l_reg_loss: 0.0050 - bb_reg_loss: 7.4727e-04[ 3 41 13 18 32  2 43  3  3 42]\n",
      " 9/10 [==========================>...] - ETA: 0s - loss: 0.0057 - l_reg_loss: 0.0050 - bb_reg_loss: 7.3570e-04[39  7  4 24 15 27 32 24 11 20]\n",
      "10/10 [==============================] - ETA: 0s - loss: nan - l_reg_loss: 0.0048 - bb_reg_loss: nan          \n",
      "Epoch 00013: val_loss did not improve from 385.59796\n",
      "10/10 [==============================] - 3s 251ms/step - loss: nan - l_reg_loss: 0.0048 - bb_reg_loss: nan - val_loss: 385.6198 - val_l_reg_loss: 0.0027 - val_bb_reg_loss: 385.6172\n",
      "Epoch 14/20\n",
      "[39  7  4 24 15 27 32 24 11 20]\n",
      " 1/10 [==>...........................] - ETA: 0s - loss: 0.0050 - l_reg_loss: 0.0042 - bb_reg_loss: 7.3927e-04[39  7  4 24 15 27 32 24 11 20]\n",
      " 2/10 [=====>........................] - ETA: 1s - loss: 0.0048 - l_reg_loss: 0.0042 - bb_reg_loss: 6.5558e-04[39  7  4 24 15 27 32 24 11 20]\n",
      " 3/10 [========>.....................] - ETA: 1s - loss: 0.0048 - l_reg_loss: 0.0041 - bb_reg_loss: 6.4936e-04[39  7  4 24 15 27 32 24 11 20]\n",
      " 4/10 [===========>..................] - ETA: 1s - loss: 0.0047 - l_reg_loss: 0.0041 - bb_reg_loss: 6.3437e-04[39  7  4 24 15 27 32 24 11 20]\n",
      " 5/10 [==============>...............] - ETA: 1s - loss: 0.0047 - l_reg_loss: 0.0041 - bb_reg_loss: 6.1762e-04[39  7  4 24 15 27 32 24 11 20]\n",
      " 6/10 [=================>............] - ETA: 0s - loss: 0.0046 - l_reg_loss: 0.0040 - bb_reg_loss: 6.0795e-04[39  7  4 24 15 27 32 24 11 20]\n",
      " 7/10 [====================>.........] - ETA: 0s - loss: 0.0046 - l_reg_loss: 0.0040 - bb_reg_loss: 5.9742e-04[39  7  4 24 15 27 32 24 11 20]\n",
      " 8/10 [=======================>......] - ETA: 0s - loss: 0.0045 - l_reg_loss: 0.0039 - bb_reg_loss: 5.8408e-04[39  7  4 24 15 27 32 24 11 20]\n",
      " 9/10 [==========================>...] - ETA: 0s - loss: 0.0045 - l_reg_loss: 0.0039 - bb_reg_loss: 5.7731e-04[32 40 11 36  6 23  3 31 30 18]\n",
      "10/10 [==============================] - ETA: 0s - loss: nan - l_reg_loss: 0.0037 - bb_reg_loss: nan          \n",
      "Epoch 00014: val_loss did not improve from 385.59796\n",
      "10/10 [==============================] - 3s 258ms/step - loss: nan - l_reg_loss: 0.0037 - bb_reg_loss: nan - val_loss: 385.6309 - val_l_reg_loss: 0.0022 - val_bb_reg_loss: 385.6287\n",
      "Epoch 00014: early stopping\n"
     ]
    },
    {
     "data": {
      "text/plain": [
       "<tensorflow.python.keras.callbacks.History at 0x1b796471a90>"
      ]
     },
     "execution_count": 21,
     "metadata": {},
     "output_type": "execute_result"
    }
   ],
   "source": [
    "model.fit(input_generator(images_train,\n",
    "                          bbox_datasets_train,\n",
    "                          IMG_SIZE,\n",
    "                          N_SUB,\n",
    "                          ANCHOR_RATIOS,\n",
    "                          ANCHOR_SIZES,\n",
    "                          N_DATA_EPOCHS,\n",
    "                          N_ANCHORS,\n",
    "                          N_RATIOS,\n",
    "                          POS_IOU_THRESHOLD,\n",
    "                          NEG_IOU_THRESHOLD,\n",
    "                          DEBUG, \n",
    "                          POS_RATIO,\n",
    "                          N_SAMPLES,\n",
    "                          SHOW_N_POS),\n",
    "          steps_per_epoch=10,\n",
    "          epochs=N_EPOCHS,\n",
    "          callbacks=[best_model, early_stopping],\n",
    "          validation_data = validation_data)"
   ]
  },
  {
   "cell_type": "markdown",
   "id": "42ebd5bc-1de0-4a39-84aa-123e07756c35",
   "metadata": {},
   "source": [
    "At this point, the model is trained. In order to use the model as a segmentation tool, please check the `predicting_example`.\n"
   ]
  },
  {
   "cell_type": "code",
   "execution_count": null,
   "id": "0c2e60ea-7492-4758-b20f-23442c4e8b22",
   "metadata": {},
   "outputs": [],
   "source": []
  }
 ],
 "metadata": {
  "kernelspec": {
   "display_name": "Python 3 (ipykernel)",
   "language": "python",
   "name": "python3"
  },
  "language_info": {
   "codemirror_mode": {
    "name": "ipython",
    "version": 3
   },
   "file_extension": ".py",
   "mimetype": "text/x-python",
   "name": "python",
   "nbconvert_exporter": "python",
   "pygments_lexer": "ipython3",
   "version": "3.8.18"
  }
 },
 "nbformat": 4,
 "nbformat_minor": 5
}
