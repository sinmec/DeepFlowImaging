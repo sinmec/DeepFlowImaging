{
 "cells": [
  {
   "cell_type": "code",
   "execution_count": 2,
   "id": "f2d15ead-15b2-4dbe-9ab8-b252b4e46785",
   "metadata": {},
   "outputs": [],
   "source": [
    "import cv2\n",
    "import numpy as np\n",
    "import random\n",
    "import h5py as h5\n",
    "from pathlib import Path\n",
    "from keras.layers import Conv2D, MaxPooling2D\n",
    "from keras.layers import Input\n",
    "from keras.models import Model\n",
    "from keras.optimizers import Adam\n",
    "from keras.utils import plot_model\n",
    "from keras.callbacks import ModelCheckpoint\n",
    "from keras.callbacks import EarlyStopping\n",
    "from tensorflow.keras.utils import plot_model"
   ]
  },
  {
   "cell_type": "markdown",
   "id": "52817b45-d508-436d-9426-c8871e4b7154",
   "metadata": {},
   "source": [
    "# Training the F-RCNN"
   ]
  },
  {
   "cell_type": "markdown",
   "id": "02f75659-2302-407a-b7d6-f9e798cddddf",
   "metadata": {},
   "source": [
    "## Importing auxiliary functions"
   ]
  },
  {
   "cell_type": "code",
   "execution_count": 23,
   "id": "38df3940-b87a-4dae-8f74-74584e6fd9fd",
   "metadata": {},
   "outputs": [],
   "source": [
    "import sys\n",
    "sys.path.append(\"..\") # TODO: fix"
   ]
  },
  {
   "cell_type": "code",
   "execution_count": 25,
   "id": "91479b3a-7d08-44b5-94c3-520a7e037470",
   "metadata": {},
   "outputs": [],
   "source": [
    "from training.read_dataset import read_dataset\n",
    "from training.create_anchors import create_anchors\n",
    "from training.calculate_bbox_intesect_over_union import calculate_bbox_intesect_over_union\n",
    "from training.evaluate_ious import evaluate_ious\n",
    "from training.create_samples_for_training import create_samples_for_training\n",
    "from training.parametrize_anchor_box_properties import parametrize_anchor_box_properties\n",
    "from training.losses import loss_cls, loss_reg\n",
    "from training.run import generate_validation_data\n",
    "from training.run import input_generator"
   ]
  },
  {
   "cell_type": "markdown",
   "id": "44d6278f-f90c-4153-8db2-bf161d9d636e",
   "metadata": {},
   "source": [
    "## Defining parameters"
   ]
  },
  {
   "cell_type": "code",
   "execution_count": 26,
   "id": "eeafe72e-b589-4b2a-be42-464aaa3a4e67",
   "metadata": {},
   "outputs": [],
   "source": [
    "N_RATIO_LOSSES = 10.0\n",
    "N_VALIDATION_DATA = 10\n",
    "N_TEST_DATA = 5\n",
    "N_DATA_EPOCHS = 10\n",
    "N_EPOCHS = 100\n",
    "N_PATIENCE = 200\n",
    "RANDOM_SEED = 13\n",
    "\n",
    "IMG_SIZE = (500, 500)\n",
    "MODE = \"mask\"\n",
    "\n",
    "DEBUG = False\n",
    "\n",
    "N_SUB = 8\n",
    "ANCHOR_REAL_SIZE = [16, 24, 32, 48, 64]\n",
    "POS_IOU_THRESHOLD = 0.50\n",
    "NEG_IOU_THRESHOLD = 0.1\n",
    "N_FILTERS = 16\n",
    "KERNEL_SIZE = 5\n",
    "\n",
    "ANCHOR_RATIOS = [0.5, 0.8, 1.0, 1.1]\n",
    "\n",
    "SHOW_N_POS = False\n",
    "POS_RATIO = 0.5\n",
    "N_SAMPLES = 30\n",
    "\n",
    "ADAM_LEARNING_RATE = 3.0e-4\n",
    "\n",
    "# Subscaling/Anchor values (2^n), ex: 1, 2, 4, 8, 16, 32\n",
    "N_SUB = 2\n",
    "\n",
    "# Defining anchor sizes\n",
    "ANCHOR_SIZES = np.array(ANCHOR_REAL_SIZE) // N_SUB\n",
    "\n",
    "# Defining number of anchors sized and rations\n",
    "N_ANCHORS =  len(ANCHOR_SIZES)\n",
    "N_RATIOS  =  len(ANCHOR_RATIOS)"
   ]
  },
  {
   "cell_type": "markdown",
   "id": "4d35df8e-1ce5-45d9-9863-1dc8c6bdca03",
   "metadata": {},
   "source": [
    "## Reading the dataset"
   ]
  },
  {
   "cell_type": "code",
   "execution_count": 27,
   "id": "a27926d3-bf07-408b-bef7-475d10d3e09b",
   "metadata": {},
   "outputs": [],
   "source": [
    "dataset_folder = Path(\"dataset_test\")\n",
    "imgs, bbox_datasets = read_dataset(img_size, dataset_folder)"
   ]
  },
  {
   "cell_type": "markdown",
   "id": "f9442705-43a9-4d6a-a75e-d601589d725b",
   "metadata": {},
   "source": [
    "## Shuffling the data"
   ]
  },
  {
   "cell_type": "code",
   "execution_count": 28,
   "id": "a0e47de3-e187-49ae-9297-5964dee97538",
   "metadata": {},
   "outputs": [],
   "source": [
    "# Shuffling dataset\n",
    "N_dataset = imgs.shape[0]\n",
    "array_for_shuffling = np.arange(N_dataset, dtype=int)\n",
    "random.Random(13).shuffle(array_for_shuffling)\n",
    "\n",
    "# Shuffling images\n",
    "imgs = imgs[array_for_shuffling]\n",
    "\n",
    "# Shuffling bboxes\n",
    "bbox_datasets_new = []\n",
    "for new_index in array_for_shuffling:\n",
    "    bbox_datasets_new.append(bbox_datasets[new_index])\n",
    "bbox_datasets = bbox_datasets_new"
   ]
  },
  {
   "cell_type": "code",
   "execution_count": 29,
   "id": "02f19b79-5a31-401a-9f55-6de48cb09618",
   "metadata": {},
   "outputs": [],
   "source": [
    "# Defining which image is used during training\n",
    "if MODE == \"mask\":\n",
    "    imgs = imgs[:,:,:,0]\n",
    "elif MODE == \"raw\":\n",
    "    imgs = imgs[:,:,:,1]"
   ]
  },
  {
   "cell_type": "markdown",
   "id": "6b90d346-466d-46a7-9f37-0cbd65d6e5ef",
   "metadata": {},
   "source": [
    "## Defining the F-RCNN architecture"
   ]
  },
  {
   "cell_type": "code",
   "execution_count": 30,
   "id": "d6e6fcd2-68c5-4cc9-95ce-886a8f5920d3",
   "metadata": {},
   "outputs": [],
   "source": [
    "input_image = Input(shape=(img_size[0],img_size[1],1))\n",
    "conv_3_3_1 = Conv2D(\n",
    "    filters=N_FILTERS,\n",
    "    kernel_size=KERNEL_SIZE,\n",
    "    padding='same',\n",
    "    name=\"3x3-1\"\n",
    "    )(input_image)\n",
    "max_pool_1 = MaxPooling2D((2,2),\n",
    "                          name=\"max_pool_1\")(conv_3_3_1)\n",
    "\n",
    "conv_3_3_2 = Conv2D(\n",
    "    filters=N_FILTERS,\n",
    "    kernel_size=KERNEL_SIZE,\n",
    "    padding='same',\n",
    "    name=\"3x3-2\"\n",
    ")(max_pool_1)\n",
    "\n",
    "\n",
    "max_pool_2 = MaxPooling2D((2,2),\n",
    "                          name=\"max_pool_2\")(conv_3_3_2)\n",
    "\n",
    "conv_3_3_3 = Conv2D(\n",
    "    filters=N_FILTERS,\n",
    "    kernel_size=KERNEL_SIZE,\n",
    "    padding='same',\n",
    "    name=\"3x3-3\"\n",
    ")(max_pool_2)\n",
    "\n",
    "max_pool_3 = MaxPooling2D((2,2),\n",
    "                          name=\"max_pool_3\")(conv_3_3_3)\n",
    "\n",
    "conv_3_3_4 = Conv2D(\n",
    "    filters=N_FILTERS,\n",
    "    kernel_size=KERNEL_SIZE,\n",
    "    padding='same',\n",
    "    name=\"3x3-4\"\n",
    ")(max_pool_3)\n",
    "\n",
    "max_pool_4 = MaxPooling2D((2,2),\n",
    "                          name=\"max_pool_4\")(conv_3_3_4)\n",
    "\n",
    "conv_3_3_5 = Conv2D(\n",
    "    filters=N_FILTERS,\n",
    "    kernel_size=KERNEL_SIZE,\n",
    "    padding='same',\n",
    "    name=\"3x3-5\"\n",
    ")(max_pool_4)\n",
    "\n",
    "max_pool_5 = MaxPooling2D((2,2),\n",
    "                          name=\"max_pool_5\")(conv_3_3_5)\n",
    "\n",
    "conv_3_3_6 = Conv2D(\n",
    "    filters=N_FILTERS,\n",
    "    kernel_size=KERNEL_SIZE,\n",
    "    padding='same',\n",
    "    name=\"3x3-6\"\n",
    ")(max_pool_5)\n",
    "\n",
    "max_pool_6 = MaxPooling2D((2,2),\n",
    "                          name=\"max_pool_6\")(conv_3_3_6)"
   ]
  },
  {
   "cell_type": "code",
   "execution_count": 31,
   "id": "edc9f97e-291b-4e29-ac2d-04bf3b08ae55",
   "metadata": {},
   "outputs": [],
   "source": [
    "if N_SUB == 1:\n",
    "    last_layer = conv_3_3_1\n",
    "elif N_SUB == 2:\n",
    "    last_layer = max_pool_1\n",
    "elif N_SUB == 4:\n",
    "    last_layer = max_pool_2\n",
    "elif N_SUB == 8:\n",
    "    last_layer = max_pool_3\n",
    "elif N_SUB == 16:\n",
    "    last_layer = max_pool_4\n",
    "elif N_SUB == 32:\n",
    "    last_layer = max_pool_5"
   ]
  },
  {
   "cell_type": "code",
   "execution_count": 32,
   "id": "9b09bd49-4060-4f21-b871-476ac2cfe4c1",
   "metadata": {
    "scrolled": true
   },
   "outputs": [
    {
     "name": "stdout",
     "output_type": "stream",
     "text": [
      "Model: \"functional_3\"\n",
      "__________________________________________________________________________________________________\n",
      "Layer (type)                    Output Shape         Param #     Connected to                     \n",
      "==================================================================================================\n",
      "input_2 (InputLayer)            [(None, 500, 500, 1) 0                                            \n",
      "__________________________________________________________________________________________________\n",
      "3x3-1 (Conv2D)                  (None, 500, 500, 16) 416         input_2[0][0]                    \n",
      "__________________________________________________________________________________________________\n",
      "max_pool_1 (MaxPooling2D)       (None, 250, 250, 16) 0           3x3-1[0][0]                      \n",
      "__________________________________________________________________________________________________\n",
      "l_reg (Conv2D)                  (None, 250, 250, 20) 340         max_pool_1[0][0]                 \n",
      "__________________________________________________________________________________________________\n",
      "bb_reg (Conv2D)                 (None, 250, 250, 80) 1360        max_pool_1[0][0]                 \n",
      "==================================================================================================\n",
      "Total params: 2,116\n",
      "Trainable params: 2,116\n",
      "Non-trainable params: 0\n",
      "__________________________________________________________________________________________________\n"
     ]
    }
   ],
   "source": [
    "output_scores = Conv2D(\n",
    "    filters=N_ANCHORS * N_RATIOS,\n",
    "    kernel_size=(1, 1),\n",
    "    activation=\"sigmoid\",\n",
    "    kernel_initializer=\"uniform\",\n",
    "    name=\"l_reg\"\n",
    ")(last_layer)\n",
    "\n",
    "output_regressor = Conv2D(\n",
    "    filters=N_ANCHORS * N_RATIOS * 4,\n",
    "    kernel_size=(1, 1),\n",
    "    activation=\"linear\",\n",
    "    kernel_initializer=\"uniform\",\n",
    "    name=\"bb_reg\"\n",
    ")(last_layer)\n",
    "\n",
    "opt = Adam(learning_rate=ADAM_LEARNING_RATE)\n",
    "model = Model(inputs=[input_image], outputs=[output_scores, output_regressor])\n",
    "model.compile(optimizer=opt, loss={'l_reg':loss_cls, 'bb_reg':loss_reg})\n",
    "\n",
    "\n",
    "plot_model(model, show_shapes=True, to_file=\"model_true.png\")\n",
    "model.summary()"
   ]
  },
  {
   "cell_type": "markdown",
   "id": "851aff2e-8b2c-4dbd-8a18-7deb1aec4292",
   "metadata": {},
   "source": [
    "## Training the model"
   ]
  },
  {
   "cell_type": "code",
   "execution_count": 33,
   "id": "1d738613-ce20-4bdf-ae10-221b55fba0e8",
   "metadata": {},
   "outputs": [
    {
     "name": "stdout",
     "output_type": "stream",
     "text": [
      "1\n",
      "2\n",
      "3\n",
      "4\n",
      "5\n",
      "6\n",
      "7\n",
      "8\n",
      "9\n",
      "10\n",
      "[ 9  9 11  1 10 16 14 13 12  0]\n",
      "Epoch 1/100\n",
      "[ 9  9 11  1 10 16 14 13 12  0]\n",
      " 1/10 [==>...........................] - ETA: 0s - loss: 0.6931 - l_reg_loss: 0.6931 - bb_reg_loss: 2.6746e-07[ 9  9 11  1 10 16 14 13 12  0]\n",
      " 2/10 [=====>........................] - ETA: 16s - loss: 0.6931 - l_reg_loss: 0.6931 - bb_reg_loss: 4.2798e-07[ 9  9 11  1 10 16 14 13 12  0]\n",
      " 3/10 [========>.....................] - ETA: 17s - loss: 0.6930 - l_reg_loss: 0.6930 - bb_reg_loss: 6.0694e-07[ 9  9 11  1 10 16 14 13 12  0]\n",
      " 4/10 [===========>..................] - ETA: 16s - loss: 0.6929 - l_reg_loss: 0.6929 - bb_reg_loss: 8.2540e-07[ 9  9 11  1 10 16 14 13 12  0]\n",
      " 5/10 [==============>...............] - ETA: 13s - loss: 0.6928 - l_reg_loss: 0.6928 - bb_reg_loss: 1.1064e-06[ 9  9 11  1 10 16 14 13 12  0]\n",
      " 6/10 [=================>............] - ETA: 10s - loss: 0.6927 - l_reg_loss: 0.6927 - bb_reg_loss: 1.4592e-06[ 9  9 11  1 10 16 14 13 12  0]\n",
      " 7/10 [====================>.........] - ETA: 7s - loss: 0.6926 - l_reg_loss: 0.6926 - bb_reg_loss: 1.9796e-0[ 9  9 11  1 10 16 14 13 12  0]\n",
      " 8/10 [=======================>......] - ETA: 4s - loss: 0.6926 - l_reg_loss: 0.6926 - bb_reg_loss: 2.8265e-06[ 9  9 11  1 10 16 14 13 12  0]\n",
      "10/10 [==============================] - ETA: 0s - loss: 0.7107 - l_reg_loss: 0.6926 - bb_reg_loss: 0.0181    [16 15  2 15  3 16  0  6  0  7]\n",
      "\n",
      "Epoch 00001: val_loss improved from inf to 0.87226, saving model to best_fRCNN_mask_02.keras\n",
      "10/10 [==============================] - 23s 2s/step - loss: 0.7107 - l_reg_loss: 0.6926 - bb_reg_loss: 0.0181 - val_loss: 0.8723 - val_l_reg_loss: 0.6929 - val_bb_reg_loss: 0.1793\n",
      "Epoch 2/100\n",
      "[16 15  2 15  3 16  0  6  0  7]\n",
      " 1/10 [==>...........................] - ETA: 0s - loss: 0.6915 - l_reg_loss: 0.6915 - bb_reg_loss: 2.9870e-07[16 15  2 15  3 16  0  6  0  7]\n"
     ]
    },
    {
     "ename": "KeyboardInterrupt",
     "evalue": "",
     "output_type": "error",
     "traceback": [
      "\u001b[1;31m---------------------------------------------------------------------------\u001b[0m",
      "\u001b[1;31mKeyboardInterrupt\u001b[0m                         Traceback (most recent call last)",
      "Cell \u001b[1;32mIn[33], line 21\u001b[0m\n\u001b[0;32m     12\u001b[0m early_stopping \u001b[38;5;241m=\u001b[39m EarlyStopping(monitor\u001b[38;5;241m=\u001b[39m\u001b[38;5;124m'\u001b[39m\u001b[38;5;124mval_loss\u001b[39m\u001b[38;5;124m'\u001b[39m,\n\u001b[0;32m     13\u001b[0m                                mode\u001b[38;5;241m=\u001b[39m\u001b[38;5;124m'\u001b[39m\u001b[38;5;124mmin\u001b[39m\u001b[38;5;124m'\u001b[39m,\n\u001b[0;32m     14\u001b[0m                                verbose\u001b[38;5;241m=\u001b[39m\u001b[38;5;241m1\u001b[39m,\n\u001b[0;32m     15\u001b[0m                                patience\u001b[38;5;241m=\u001b[39mN_PATIENCE)\n\u001b[0;32m     18\u001b[0m validation_data \u001b[38;5;241m=\u001b[39m generate_validation_data(imgs[:N_VALIDATION_DATA], bbox_datasets[:N_VALIDATION_DATA], IMG_SIZE, N_SUB, N_ANCHORS, ANCHOR_SIZES, ANCHOR_RATIOS, N_RATIOS,\n\u001b[0;32m     19\u001b[0m                              POS_IOU_THRESHOLD, NEG_IOU_THRESHOLD, DEBUG, POS_RATIO, N_SAMPLES, SHOW_N_POS)\n\u001b[1;32m---> 21\u001b[0m \u001b[43mmodel\u001b[49m\u001b[38;5;241;43m.\u001b[39;49m\u001b[43mfit\u001b[49m\u001b[43m(\u001b[49m\u001b[43minput_generator\u001b[49m\u001b[43m(\u001b[49m\u001b[43mimgs\u001b[49m\u001b[43m[\u001b[49m\u001b[43mN_VALIDATION_DATA\u001b[49m\u001b[43m:\u001b[49m\u001b[43m]\u001b[49m\u001b[43m,\u001b[49m\u001b[43m \u001b[49m\u001b[43mbbox_datasets\u001b[49m\u001b[43m[\u001b[49m\u001b[43mN_VALIDATION_DATA\u001b[49m\u001b[43m:\u001b[49m\u001b[43m]\u001b[49m\u001b[43m,\u001b[49m\u001b[43m \u001b[49m\u001b[43mIMG_SIZE\u001b[49m\u001b[43m,\u001b[49m\u001b[43m \u001b[49m\u001b[43mN_SUB\u001b[49m\u001b[43m,\u001b[49m\u001b[43m \u001b[49m\u001b[43mANCHOR_RATIOS\u001b[49m\u001b[43m,\u001b[49m\u001b[43m \u001b[49m\u001b[43mANCHOR_SIZES\u001b[49m\u001b[43m,\u001b[49m\u001b[43m \u001b[49m\u001b[43mN_DATA_EPOCHS\u001b[49m\u001b[43m,\u001b[49m\u001b[43m \u001b[49m\u001b[43mN_ANCHORS\u001b[49m\u001b[43m,\u001b[49m\u001b[43m \u001b[49m\u001b[43mN_RATIOS\u001b[49m\u001b[43m,\u001b[49m\n\u001b[0;32m     22\u001b[0m \u001b[43m                    \u001b[49m\u001b[43mPOS_IOU_THRESHOLD\u001b[49m\u001b[43m,\u001b[49m\u001b[43m \u001b[49m\u001b[43mNEG_IOU_THRESHOLD\u001b[49m\u001b[43m,\u001b[49m\u001b[43m \u001b[49m\u001b[43mDEBUG\u001b[49m\u001b[43m,\u001b[49m\u001b[43m \u001b[49m\u001b[43mPOS_RATIO\u001b[49m\u001b[43m,\u001b[49m\u001b[43m \u001b[49m\u001b[43mN_SAMPLES\u001b[49m\u001b[43m,\u001b[49m\u001b[43m \u001b[49m\u001b[43mSHOW_N_POS\u001b[49m\u001b[43m)\u001b[49m\u001b[43m,\u001b[49m\n\u001b[0;32m     23\u001b[0m \u001b[43m          \u001b[49m\u001b[43msteps_per_epoch\u001b[49m\u001b[38;5;241;43m=\u001b[39;49m\u001b[38;5;241;43m10\u001b[39;49m\u001b[43m,\u001b[49m\n\u001b[0;32m     24\u001b[0m \u001b[43m          \u001b[49m\u001b[43mepochs\u001b[49m\u001b[38;5;241;43m=\u001b[39;49m\u001b[43mN_EPOCHS\u001b[49m\u001b[43m,\u001b[49m\n\u001b[0;32m     25\u001b[0m \u001b[43m          \u001b[49m\u001b[43mcallbacks\u001b[49m\u001b[38;5;241;43m=\u001b[39;49m\u001b[43m[\u001b[49m\u001b[43mcheckpoint\u001b[49m\u001b[43m,\u001b[49m\u001b[43m \u001b[49m\u001b[43mearly_stopping\u001b[49m\u001b[43m]\u001b[49m\u001b[43m,\u001b[49m\n\u001b[0;32m     26\u001b[0m \u001b[43m          \u001b[49m\u001b[43mvalidation_data\u001b[49m\u001b[43m \u001b[49m\u001b[38;5;241;43m=\u001b[39;49m\u001b[43m \u001b[49m\u001b[43mvalidation_data\u001b[49m\u001b[43m)\u001b[49m\n",
      "File \u001b[1;32m~\\anaconda3\\envs\\multilabeller\\lib\\site-packages\\tensorflow\\python\\keras\\engine\\training.py:108\u001b[0m, in \u001b[0;36menable_multi_worker.<locals>._method_wrapper\u001b[1;34m(self, *args, **kwargs)\u001b[0m\n\u001b[0;32m    106\u001b[0m \u001b[38;5;28;01mdef\u001b[39;00m \u001b[38;5;21m_method_wrapper\u001b[39m(\u001b[38;5;28mself\u001b[39m, \u001b[38;5;241m*\u001b[39margs, \u001b[38;5;241m*\u001b[39m\u001b[38;5;241m*\u001b[39mkwargs):\n\u001b[0;32m    107\u001b[0m   \u001b[38;5;28;01mif\u001b[39;00m \u001b[38;5;129;01mnot\u001b[39;00m \u001b[38;5;28mself\u001b[39m\u001b[38;5;241m.\u001b[39m_in_multi_worker_mode():  \u001b[38;5;66;03m# pylint: disable=protected-access\u001b[39;00m\n\u001b[1;32m--> 108\u001b[0m     \u001b[38;5;28;01mreturn\u001b[39;00m \u001b[43mmethod\u001b[49m\u001b[43m(\u001b[49m\u001b[38;5;28;43mself\u001b[39;49m\u001b[43m,\u001b[49m\u001b[43m \u001b[49m\u001b[38;5;241;43m*\u001b[39;49m\u001b[43margs\u001b[49m\u001b[43m,\u001b[49m\u001b[43m \u001b[49m\u001b[38;5;241;43m*\u001b[39;49m\u001b[38;5;241;43m*\u001b[39;49m\u001b[43mkwargs\u001b[49m\u001b[43m)\u001b[49m\n\u001b[0;32m    110\u001b[0m   \u001b[38;5;66;03m# Running inside `run_distribute_coordinator` already.\u001b[39;00m\n\u001b[0;32m    111\u001b[0m   \u001b[38;5;28;01mif\u001b[39;00m dc_context\u001b[38;5;241m.\u001b[39mget_current_worker_context():\n",
      "File \u001b[1;32m~\\anaconda3\\envs\\multilabeller\\lib\\site-packages\\tensorflow\\python\\keras\\engine\\training.py:1098\u001b[0m, in \u001b[0;36mModel.fit\u001b[1;34m(self, x, y, batch_size, epochs, verbose, callbacks, validation_split, validation_data, shuffle, class_weight, sample_weight, initial_epoch, steps_per_epoch, validation_steps, validation_batch_size, validation_freq, max_queue_size, workers, use_multiprocessing)\u001b[0m\n\u001b[0;32m   1091\u001b[0m \u001b[38;5;28;01mwith\u001b[39;00m trace\u001b[38;5;241m.\u001b[39mTrace(\n\u001b[0;32m   1092\u001b[0m     \u001b[38;5;124m'\u001b[39m\u001b[38;5;124mTraceContext\u001b[39m\u001b[38;5;124m'\u001b[39m,\n\u001b[0;32m   1093\u001b[0m     graph_type\u001b[38;5;241m=\u001b[39m\u001b[38;5;124m'\u001b[39m\u001b[38;5;124mtrain\u001b[39m\u001b[38;5;124m'\u001b[39m,\n\u001b[0;32m   1094\u001b[0m     epoch_num\u001b[38;5;241m=\u001b[39mepoch,\n\u001b[0;32m   1095\u001b[0m     step_num\u001b[38;5;241m=\u001b[39mstep,\n\u001b[0;32m   1096\u001b[0m     batch_size\u001b[38;5;241m=\u001b[39mbatch_size):\n\u001b[0;32m   1097\u001b[0m   callbacks\u001b[38;5;241m.\u001b[39mon_train_batch_begin(step)\n\u001b[1;32m-> 1098\u001b[0m   tmp_logs \u001b[38;5;241m=\u001b[39m \u001b[43mtrain_function\u001b[49m\u001b[43m(\u001b[49m\u001b[43miterator\u001b[49m\u001b[43m)\u001b[49m\n\u001b[0;32m   1099\u001b[0m   \u001b[38;5;28;01mif\u001b[39;00m data_handler\u001b[38;5;241m.\u001b[39mshould_sync:\n\u001b[0;32m   1100\u001b[0m     context\u001b[38;5;241m.\u001b[39masync_wait()\n",
      "File \u001b[1;32m~\\anaconda3\\envs\\multilabeller\\lib\\site-packages\\tensorflow\\python\\eager\\def_function.py:780\u001b[0m, in \u001b[0;36mFunction.__call__\u001b[1;34m(self, *args, **kwds)\u001b[0m\n\u001b[0;32m    778\u001b[0m \u001b[38;5;28;01melse\u001b[39;00m:\n\u001b[0;32m    779\u001b[0m   compiler \u001b[38;5;241m=\u001b[39m \u001b[38;5;124m\"\u001b[39m\u001b[38;5;124mnonXla\u001b[39m\u001b[38;5;124m\"\u001b[39m\n\u001b[1;32m--> 780\u001b[0m   result \u001b[38;5;241m=\u001b[39m \u001b[38;5;28;43mself\u001b[39;49m\u001b[38;5;241;43m.\u001b[39;49m\u001b[43m_call\u001b[49m\u001b[43m(\u001b[49m\u001b[38;5;241;43m*\u001b[39;49m\u001b[43margs\u001b[49m\u001b[43m,\u001b[49m\u001b[43m \u001b[49m\u001b[38;5;241;43m*\u001b[39;49m\u001b[38;5;241;43m*\u001b[39;49m\u001b[43mkwds\u001b[49m\u001b[43m)\u001b[49m\n\u001b[0;32m    782\u001b[0m new_tracing_count \u001b[38;5;241m=\u001b[39m \u001b[38;5;28mself\u001b[39m\u001b[38;5;241m.\u001b[39m_get_tracing_count()\n\u001b[0;32m    783\u001b[0m without_tracing \u001b[38;5;241m=\u001b[39m (tracing_count \u001b[38;5;241m==\u001b[39m new_tracing_count)\n",
      "File \u001b[1;32m~\\anaconda3\\envs\\multilabeller\\lib\\site-packages\\tensorflow\\python\\eager\\def_function.py:807\u001b[0m, in \u001b[0;36mFunction._call\u001b[1;34m(self, *args, **kwds)\u001b[0m\n\u001b[0;32m    804\u001b[0m   \u001b[38;5;28mself\u001b[39m\u001b[38;5;241m.\u001b[39m_lock\u001b[38;5;241m.\u001b[39mrelease()\n\u001b[0;32m    805\u001b[0m   \u001b[38;5;66;03m# In this case we have created variables on the first call, so we run the\u001b[39;00m\n\u001b[0;32m    806\u001b[0m   \u001b[38;5;66;03m# defunned version which is guaranteed to never create variables.\u001b[39;00m\n\u001b[1;32m--> 807\u001b[0m   \u001b[38;5;28;01mreturn\u001b[39;00m \u001b[38;5;28;43mself\u001b[39;49m\u001b[38;5;241;43m.\u001b[39;49m\u001b[43m_stateless_fn\u001b[49m\u001b[43m(\u001b[49m\u001b[38;5;241;43m*\u001b[39;49m\u001b[43margs\u001b[49m\u001b[43m,\u001b[49m\u001b[43m \u001b[49m\u001b[38;5;241;43m*\u001b[39;49m\u001b[38;5;241;43m*\u001b[39;49m\u001b[43mkwds\u001b[49m\u001b[43m)\u001b[49m  \u001b[38;5;66;03m# pylint: disable=not-callable\u001b[39;00m\n\u001b[0;32m    808\u001b[0m \u001b[38;5;28;01melif\u001b[39;00m \u001b[38;5;28mself\u001b[39m\u001b[38;5;241m.\u001b[39m_stateful_fn \u001b[38;5;129;01mis\u001b[39;00m \u001b[38;5;129;01mnot\u001b[39;00m \u001b[38;5;28;01mNone\u001b[39;00m:\n\u001b[0;32m    809\u001b[0m   \u001b[38;5;66;03m# Release the lock early so that multiple threads can perform the call\u001b[39;00m\n\u001b[0;32m    810\u001b[0m   \u001b[38;5;66;03m# in parallel.\u001b[39;00m\n\u001b[0;32m    811\u001b[0m   \u001b[38;5;28mself\u001b[39m\u001b[38;5;241m.\u001b[39m_lock\u001b[38;5;241m.\u001b[39mrelease()\n",
      "File \u001b[1;32m~\\anaconda3\\envs\\multilabeller\\lib\\site-packages\\tensorflow\\python\\eager\\function.py:2829\u001b[0m, in \u001b[0;36mFunction.__call__\u001b[1;34m(self, *args, **kwargs)\u001b[0m\n\u001b[0;32m   2827\u001b[0m \u001b[38;5;28;01mwith\u001b[39;00m \u001b[38;5;28mself\u001b[39m\u001b[38;5;241m.\u001b[39m_lock:\n\u001b[0;32m   2828\u001b[0m   graph_function, args, kwargs \u001b[38;5;241m=\u001b[39m \u001b[38;5;28mself\u001b[39m\u001b[38;5;241m.\u001b[39m_maybe_define_function(args, kwargs)\n\u001b[1;32m-> 2829\u001b[0m \u001b[38;5;28;01mreturn\u001b[39;00m \u001b[43mgraph_function\u001b[49m\u001b[38;5;241;43m.\u001b[39;49m\u001b[43m_filtered_call\u001b[49m\u001b[43m(\u001b[49m\u001b[43margs\u001b[49m\u001b[43m,\u001b[49m\u001b[43m \u001b[49m\u001b[43mkwargs\u001b[49m\u001b[43m)\u001b[49m\n",
      "File \u001b[1;32m~\\anaconda3\\envs\\multilabeller\\lib\\site-packages\\tensorflow\\python\\eager\\function.py:1843\u001b[0m, in \u001b[0;36mConcreteFunction._filtered_call\u001b[1;34m(self, args, kwargs, cancellation_manager)\u001b[0m\n\u001b[0;32m   1827\u001b[0m \u001b[38;5;28;01mdef\u001b[39;00m \u001b[38;5;21m_filtered_call\u001b[39m(\u001b[38;5;28mself\u001b[39m, args, kwargs, cancellation_manager\u001b[38;5;241m=\u001b[39m\u001b[38;5;28;01mNone\u001b[39;00m):\n\u001b[0;32m   1828\u001b[0m \u001b[38;5;250m  \u001b[39m\u001b[38;5;124;03m\"\"\"Executes the function, filtering arguments from the Python function.\u001b[39;00m\n\u001b[0;32m   1829\u001b[0m \n\u001b[0;32m   1830\u001b[0m \u001b[38;5;124;03m  Objects aside from Tensors, CompositeTensors, and Variables are ignored.\u001b[39;00m\n\u001b[1;32m   (...)\u001b[0m\n\u001b[0;32m   1841\u001b[0m \u001b[38;5;124;03m    `args` and `kwargs`.\u001b[39;00m\n\u001b[0;32m   1842\u001b[0m \u001b[38;5;124;03m  \"\"\"\u001b[39;00m\n\u001b[1;32m-> 1843\u001b[0m   \u001b[38;5;28;01mreturn\u001b[39;00m \u001b[38;5;28;43mself\u001b[39;49m\u001b[38;5;241;43m.\u001b[39;49m\u001b[43m_call_flat\u001b[49m\u001b[43m(\u001b[49m\n\u001b[0;32m   1844\u001b[0m \u001b[43m      \u001b[49m\u001b[43m[\u001b[49m\u001b[43mt\u001b[49m\u001b[43m \u001b[49m\u001b[38;5;28;43;01mfor\u001b[39;49;00m\u001b[43m \u001b[49m\u001b[43mt\u001b[49m\u001b[43m \u001b[49m\u001b[38;5;129;43;01min\u001b[39;49;00m\u001b[43m \u001b[49m\u001b[43mnest\u001b[49m\u001b[38;5;241;43m.\u001b[39;49m\u001b[43mflatten\u001b[49m\u001b[43m(\u001b[49m\u001b[43m(\u001b[49m\u001b[43margs\u001b[49m\u001b[43m,\u001b[49m\u001b[43m \u001b[49m\u001b[43mkwargs\u001b[49m\u001b[43m)\u001b[49m\u001b[43m,\u001b[49m\u001b[43m \u001b[49m\u001b[43mexpand_composites\u001b[49m\u001b[38;5;241;43m=\u001b[39;49m\u001b[38;5;28;43;01mTrue\u001b[39;49;00m\u001b[43m)\u001b[49m\n\u001b[0;32m   1845\u001b[0m \u001b[43m       \u001b[49m\u001b[38;5;28;43;01mif\u001b[39;49;00m\u001b[43m \u001b[49m\u001b[38;5;28;43misinstance\u001b[39;49m\u001b[43m(\u001b[49m\u001b[43mt\u001b[49m\u001b[43m,\u001b[49m\u001b[43m \u001b[49m\u001b[43m(\u001b[49m\u001b[43mops\u001b[49m\u001b[38;5;241;43m.\u001b[39;49m\u001b[43mTensor\u001b[49m\u001b[43m,\u001b[49m\n\u001b[0;32m   1846\u001b[0m \u001b[43m                         \u001b[49m\u001b[43mresource_variable_ops\u001b[49m\u001b[38;5;241;43m.\u001b[39;49m\u001b[43mBaseResourceVariable\u001b[49m\u001b[43m)\u001b[49m\u001b[43m)\u001b[49m\u001b[43m]\u001b[49m\u001b[43m,\u001b[49m\n\u001b[0;32m   1847\u001b[0m \u001b[43m      \u001b[49m\u001b[43mcaptured_inputs\u001b[49m\u001b[38;5;241;43m=\u001b[39;49m\u001b[38;5;28;43mself\u001b[39;49m\u001b[38;5;241;43m.\u001b[39;49m\u001b[43mcaptured_inputs\u001b[49m\u001b[43m,\u001b[49m\n\u001b[0;32m   1848\u001b[0m \u001b[43m      \u001b[49m\u001b[43mcancellation_manager\u001b[49m\u001b[38;5;241;43m=\u001b[39;49m\u001b[43mcancellation_manager\u001b[49m\u001b[43m)\u001b[49m\n",
      "File \u001b[1;32m~\\anaconda3\\envs\\multilabeller\\lib\\site-packages\\tensorflow\\python\\eager\\function.py:1923\u001b[0m, in \u001b[0;36mConcreteFunction._call_flat\u001b[1;34m(self, args, captured_inputs, cancellation_manager)\u001b[0m\n\u001b[0;32m   1918\u001b[0m possible_gradient_type \u001b[38;5;241m=\u001b[39m (\n\u001b[0;32m   1919\u001b[0m     pywrap_tfe\u001b[38;5;241m.\u001b[39mTFE_Py_TapeSetPossibleGradientTypes(args))\n\u001b[0;32m   1920\u001b[0m \u001b[38;5;28;01mif\u001b[39;00m (possible_gradient_type \u001b[38;5;241m==\u001b[39m _POSSIBLE_GRADIENT_TYPES_NONE\n\u001b[0;32m   1921\u001b[0m     \u001b[38;5;129;01mand\u001b[39;00m executing_eagerly):\n\u001b[0;32m   1922\u001b[0m   \u001b[38;5;66;03m# No tape is watching; skip to running the function.\u001b[39;00m\n\u001b[1;32m-> 1923\u001b[0m   \u001b[38;5;28;01mreturn\u001b[39;00m \u001b[38;5;28mself\u001b[39m\u001b[38;5;241m.\u001b[39m_build_call_outputs(\u001b[38;5;28;43mself\u001b[39;49m\u001b[38;5;241;43m.\u001b[39;49m\u001b[43m_inference_function\u001b[49m\u001b[38;5;241;43m.\u001b[39;49m\u001b[43mcall\u001b[49m\u001b[43m(\u001b[49m\n\u001b[0;32m   1924\u001b[0m \u001b[43m      \u001b[49m\u001b[43mctx\u001b[49m\u001b[43m,\u001b[49m\u001b[43m \u001b[49m\u001b[43margs\u001b[49m\u001b[43m,\u001b[49m\u001b[43m \u001b[49m\u001b[43mcancellation_manager\u001b[49m\u001b[38;5;241;43m=\u001b[39;49m\u001b[43mcancellation_manager\u001b[49m\u001b[43m)\u001b[49m)\n\u001b[0;32m   1925\u001b[0m forward_backward \u001b[38;5;241m=\u001b[39m \u001b[38;5;28mself\u001b[39m\u001b[38;5;241m.\u001b[39m_select_forward_and_backward_functions(\n\u001b[0;32m   1926\u001b[0m     args,\n\u001b[0;32m   1927\u001b[0m     possible_gradient_type,\n\u001b[0;32m   1928\u001b[0m     executing_eagerly)\n\u001b[0;32m   1929\u001b[0m forward_function, args_with_tangents \u001b[38;5;241m=\u001b[39m forward_backward\u001b[38;5;241m.\u001b[39mforward()\n",
      "File \u001b[1;32m~\\anaconda3\\envs\\multilabeller\\lib\\site-packages\\tensorflow\\python\\eager\\function.py:545\u001b[0m, in \u001b[0;36m_EagerDefinedFunction.call\u001b[1;34m(self, ctx, args, cancellation_manager)\u001b[0m\n\u001b[0;32m    543\u001b[0m \u001b[38;5;28;01mwith\u001b[39;00m _InterpolateFunctionError(\u001b[38;5;28mself\u001b[39m):\n\u001b[0;32m    544\u001b[0m   \u001b[38;5;28;01mif\u001b[39;00m cancellation_manager \u001b[38;5;129;01mis\u001b[39;00m \u001b[38;5;28;01mNone\u001b[39;00m:\n\u001b[1;32m--> 545\u001b[0m     outputs \u001b[38;5;241m=\u001b[39m \u001b[43mexecute\u001b[49m\u001b[38;5;241;43m.\u001b[39;49m\u001b[43mexecute\u001b[49m\u001b[43m(\u001b[49m\n\u001b[0;32m    546\u001b[0m \u001b[43m        \u001b[49m\u001b[38;5;28;43mstr\u001b[39;49m\u001b[43m(\u001b[49m\u001b[38;5;28;43mself\u001b[39;49m\u001b[38;5;241;43m.\u001b[39;49m\u001b[43msignature\u001b[49m\u001b[38;5;241;43m.\u001b[39;49m\u001b[43mname\u001b[49m\u001b[43m)\u001b[49m\u001b[43m,\u001b[49m\n\u001b[0;32m    547\u001b[0m \u001b[43m        \u001b[49m\u001b[43mnum_outputs\u001b[49m\u001b[38;5;241;43m=\u001b[39;49m\u001b[38;5;28;43mself\u001b[39;49m\u001b[38;5;241;43m.\u001b[39;49m\u001b[43m_num_outputs\u001b[49m\u001b[43m,\u001b[49m\n\u001b[0;32m    548\u001b[0m \u001b[43m        \u001b[49m\u001b[43minputs\u001b[49m\u001b[38;5;241;43m=\u001b[39;49m\u001b[43margs\u001b[49m\u001b[43m,\u001b[49m\n\u001b[0;32m    549\u001b[0m \u001b[43m        \u001b[49m\u001b[43mattrs\u001b[49m\u001b[38;5;241;43m=\u001b[39;49m\u001b[43mattrs\u001b[49m\u001b[43m,\u001b[49m\n\u001b[0;32m    550\u001b[0m \u001b[43m        \u001b[49m\u001b[43mctx\u001b[49m\u001b[38;5;241;43m=\u001b[39;49m\u001b[43mctx\u001b[49m\u001b[43m)\u001b[49m\n\u001b[0;32m    551\u001b[0m   \u001b[38;5;28;01melse\u001b[39;00m:\n\u001b[0;32m    552\u001b[0m     outputs \u001b[38;5;241m=\u001b[39m execute\u001b[38;5;241m.\u001b[39mexecute_with_cancellation(\n\u001b[0;32m    553\u001b[0m         \u001b[38;5;28mstr\u001b[39m(\u001b[38;5;28mself\u001b[39m\u001b[38;5;241m.\u001b[39msignature\u001b[38;5;241m.\u001b[39mname),\n\u001b[0;32m    554\u001b[0m         num_outputs\u001b[38;5;241m=\u001b[39m\u001b[38;5;28mself\u001b[39m\u001b[38;5;241m.\u001b[39m_num_outputs,\n\u001b[1;32m   (...)\u001b[0m\n\u001b[0;32m    557\u001b[0m         ctx\u001b[38;5;241m=\u001b[39mctx,\n\u001b[0;32m    558\u001b[0m         cancellation_manager\u001b[38;5;241m=\u001b[39mcancellation_manager)\n",
      "File \u001b[1;32m~\\anaconda3\\envs\\multilabeller\\lib\\site-packages\\tensorflow\\python\\eager\\execute.py:59\u001b[0m, in \u001b[0;36mquick_execute\u001b[1;34m(op_name, num_outputs, inputs, attrs, ctx, name)\u001b[0m\n\u001b[0;32m     57\u001b[0m \u001b[38;5;28;01mtry\u001b[39;00m:\n\u001b[0;32m     58\u001b[0m   ctx\u001b[38;5;241m.\u001b[39mensure_initialized()\n\u001b[1;32m---> 59\u001b[0m   tensors \u001b[38;5;241m=\u001b[39m \u001b[43mpywrap_tfe\u001b[49m\u001b[38;5;241;43m.\u001b[39;49m\u001b[43mTFE_Py_Execute\u001b[49m\u001b[43m(\u001b[49m\u001b[43mctx\u001b[49m\u001b[38;5;241;43m.\u001b[39;49m\u001b[43m_handle\u001b[49m\u001b[43m,\u001b[49m\u001b[43m \u001b[49m\u001b[43mdevice_name\u001b[49m\u001b[43m,\u001b[49m\u001b[43m \u001b[49m\u001b[43mop_name\u001b[49m\u001b[43m,\u001b[49m\n\u001b[0;32m     60\u001b[0m \u001b[43m                                      \u001b[49m\u001b[43minputs\u001b[49m\u001b[43m,\u001b[49m\u001b[43m \u001b[49m\u001b[43mattrs\u001b[49m\u001b[43m,\u001b[49m\u001b[43m \u001b[49m\u001b[43mnum_outputs\u001b[49m\u001b[43m)\u001b[49m\n\u001b[0;32m     61\u001b[0m \u001b[38;5;28;01mexcept\u001b[39;00m core\u001b[38;5;241m.\u001b[39m_NotOkStatusException \u001b[38;5;28;01mas\u001b[39;00m e:\n\u001b[0;32m     62\u001b[0m   \u001b[38;5;28;01mif\u001b[39;00m name \u001b[38;5;129;01mis\u001b[39;00m \u001b[38;5;129;01mnot\u001b[39;00m \u001b[38;5;28;01mNone\u001b[39;00m:\n",
      "\u001b[1;31mKeyboardInterrupt\u001b[0m: "
     ]
    }
   ],
   "source": [
    "# Defining the best fRCNN model name\n",
    "best_model_name = \"best_fRCNN_%s_%02d.keras\" % (MODE, N_SUB)\n",
    "\n",
    "# Model checkpoint for saving best models\n",
    "checkpoint = ModelCheckpoint(best_model_name,\n",
    "                              verbose=1,\n",
    "                              save_best_only=True,\n",
    "                              monitor='val_loss',\n",
    "                              mode='auto')\n",
    "\n",
    "# Model checkpoint for early stopping\n",
    "early_stopping = EarlyStopping(monitor='val_loss',\n",
    "                               mode='min',\n",
    "                               verbose=1,\n",
    "                               patience=N_PATIENCE)\n",
    "\n",
    "\n",
    "validation_data = generate_validation_data(imgs[:N_VALIDATION_DATA], bbox_datasets[:N_VALIDATION_DATA], IMG_SIZE, N_SUB, N_ANCHORS, ANCHOR_SIZES, ANCHOR_RATIOS, N_RATIOS,\n",
    "                             POS_IOU_THRESHOLD, NEG_IOU_THRESHOLD, DEBUG, POS_RATIO, N_SAMPLES, SHOW_N_POS)\n",
    "\n",
    "model.fit(input_generator(imgs[N_VALIDATION_DATA:], bbox_datasets[N_VALIDATION_DATA:], IMG_SIZE, N_SUB, ANCHOR_RATIOS, ANCHOR_SIZES, N_DATA_EPOCHS, N_ANCHORS, N_RATIOS,\n",
    "                    POS_IOU_THRESHOLD, NEG_IOU_THRESHOLD, DEBUG, POS_RATIO, N_SAMPLES, SHOW_N_POS),\n",
    "          steps_per_epoch=10,\n",
    "          epochs=N_EPOCHS,\n",
    "          callbacks=[checkpoint, early_stopping],\n",
    "          validation_data = validation_data)"
   ]
  },
  {
   "cell_type": "code",
   "execution_count": null,
   "id": "7f8daf90-e78f-41df-a2a1-2c552d3a337f",
   "metadata": {},
   "outputs": [],
   "source": []
  }
 ],
 "metadata": {
  "kernelspec": {
   "display_name": "Python 3 (ipykernel)",
   "language": "python",
   "name": "python3"
  },
  "language_info": {
   "codemirror_mode": {
    "name": "ipython",
    "version": 3
   },
   "file_extension": ".py",
   "mimetype": "text/x-python",
   "name": "python",
   "nbconvert_exporter": "python",
   "pygments_lexer": "ipython3",
   "version": "3.8.18"
  }
 },
 "nbformat": 4,
 "nbformat_minor": 5
}
