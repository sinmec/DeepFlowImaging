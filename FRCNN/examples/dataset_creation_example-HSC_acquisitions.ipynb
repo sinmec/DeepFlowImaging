{
 "cells": [
  {
   "cell_type": "code",
   "execution_count": 1,
   "id": "bd5a892e-d2eb-4342-938f-b0a97777c433",
   "metadata": {},
   "outputs": [],
   "source": [
    "import cv2\n",
    "import h5py\n",
    "from pathlib import Path\n",
    "import random\n",
    "import os\n",
    "import sys"
   ]
  },
  {
   "cell_type": "markdown",
   "id": "130ccac0-c323-428b-8b0d-45bb12c6e5de",
   "metadata": {},
   "source": [
    "# F-RCNN Dataset Generation\n",
    "## HSC Acquisitions"
   ]
  },
  {
   "cell_type": "markdown",
   "id": "4953565a-4c71-405c-a2ea-d4837e95cddb",
   "metadata": {},
   "source": [
    "## Importing the function"
   ]
  },
  {
   "cell_type": "code",
   "execution_count": 2,
   "id": "2ff24ef2-ffbd-487e-a12b-3884f405c88e",
   "metadata": {},
   "outputs": [
    {
     "name": "stderr",
     "output_type": "stream",
     "text": [
      "2024-09-25 11:15:48.749341: I tensorflow/core/util/port.cc:153] oneDNN custom operations are on. You may see slightly different numerical results due to floating-point round-off errors from different computation orders. To turn them off, set the environment variable `TF_ENABLE_ONEDNN_OPTS=0`.\n",
      "2024-09-25 11:15:48.773071: E external/local_xla/xla/stream_executor/cuda/cuda_fft.cc:485] Unable to register cuFFT factory: Attempting to register factory for plugin cuFFT when one has already been registered\n",
      "2024-09-25 11:15:48.801939: E external/local_xla/xla/stream_executor/cuda/cuda_dnn.cc:8454] Unable to register cuDNN factory: Attempting to register factory for plugin cuDNN when one has already been registered\n",
      "2024-09-25 11:15:48.810411: E external/local_xla/xla/stream_executor/cuda/cuda_blas.cc:1452] Unable to register cuBLAS factory: Attempting to register factory for plugin cuBLAS when one has already been registered\n",
      "2024-09-25 11:15:48.831136: I tensorflow/core/platform/cpu_feature_guard.cc:210] This TensorFlow binary is optimized to use available CPU instructions in performance-critical operations.\n",
      "To enable the following instructions: AVX2 AVX512F AVX512_VNNI FMA, in other operations, rebuild TensorFlow with the appropriate compiler flags.\n",
      "2024-09-25 11:15:50.346356: W tensorflow/compiler/tf2tensorrt/utils/py_utils.cc:38] TF-TRT Warning: Could not find TensorRT\n"
     ]
    }
   ],
   "source": [
    "sys.path.append(\"..\")  # TODO: Fix it!\n",
    "from dataset.create_dataset import create_dataset"
   ]
  },
  {
   "cell_type": "markdown",
   "id": "996c618a-3fa5-4a0b-a8e1-5b1cb91d3933",
   "metadata": {},
   "source": [
    "## Defining the path"
   ]
  },
  {
   "cell_type": "markdown",
   "id": "d35afbf2-6430-4113-8d6e-9b1623fad321",
   "metadata": {},
   "source": [
    "A `.h5` file containing a F-RCNN example is provided in this example (`HSC_annotation_files/UNET_dataset.h5`).\n",
    "\n",
    "The following F-RCNN dataset was created using the image annotation tool available [here](https://github.com/sinmec/multilabellerg).\n",
    "\n",
    "The current implementation can read multiple `.h5` files. This is done by simply placing the dataset files in the same `h5_dataset_path` folder.\n",
    "\n",
    "The images are extracted to the `output_path` folder."
   ]
  },
  {
   "cell_type": "code",
   "execution_count": 3,
   "id": "d6837dda-5643-40fb-81bb-9672e4f2e885",
   "metadata": {},
   "outputs": [],
   "source": [
    "h5_dataset_path = Path('HSC_annotation_files')\n",
    "output_path = Path(r\"example_dataset_FRCNN_HSC\")"
   ]
  },
  {
   "cell_type": "markdown",
   "id": "d78c9c62-ddf2-4b03-b1dc-76d3fd3d541e",
   "metadata": {},
   "source": [
    "## Defining parameters"
   ]
  },
  {
   "cell_type": "code",
   "execution_count": 4,
   "id": "1998954a-e44b-4baa-bde9-3dc330dfef60",
   "metadata": {},
   "outputs": [],
   "source": [
    "# Number of Validation images\n",
    "N_VALIDATION = 2\n",
    "\n",
    "# Number of Verification images\n",
    "N_VERIFICATION = 2"
   ]
  },
  {
   "cell_type": "markdown",
   "id": "a2bef62b-0b6b-4352-9641-79d1c8060e4a",
   "metadata": {},
   "source": [
    "## Running the function"
   ]
  },
  {
   "cell_type": "markdown",
   "id": "6dfa8871-98f9-418b-85f2-bbd8f2d48865",
   "metadata": {},
   "source": [
    "The dataset is generated from the `create_dataset` function. "
   ]
  },
  {
   "cell_type": "code",
   "execution_count": 5,
   "id": "fdbf341a-6e02-410f-9973-855bc97e4618",
   "metadata": {},
   "outputs": [
    {
     "name": "stderr",
     "output_type": "stream",
     "text": [
      "Extracting dataset from .h5 file:   0%|                                                                                                                         | 0/1 [00:00<?, ?it/s]\n",
      "Creating dataset:   0%|                                                                                                                                         | 0/9 [00:00<?, ?it/s]\u001b[A\n",
      "Creating dataset:  33%|███████████████████████████████████████████                                                                                      | 3/9 [00:00<00:00, 25.06it/s]\u001b[A\n",
      "Creating dataset:  67%|██████████████████████████████████████████████████████████████████████████████████████                                           | 6/9 [00:00<00:00, 27.66it/s]\u001b[A\n",
      "Creating dataset: 100%|█████████████████████████████████████████████████████████████████████████████████████████████████████████████████████████████████| 9/9 [00:00<00:00, 25.22it/s]\u001b[A\n",
      "Extracting dataset from .h5 file: 100%|█████████████████████████████████████████████████████████████████████████████████████████████████████████████████| 1/1 [00:00<00:00,  2.73it/s]\n"
     ]
    }
   ],
   "source": [
    "create_dataset(h5_dataset_path, output_path, N_VALIDATION, N_VERIFICATION)"
   ]
  },
  {
   "cell_type": "markdown",
   "id": "101d3438-b91a-4b2d-9efc-f526596a65f6",
   "metadata": {},
   "source": [
    "By running this function, you'll see that it created three new folders on the chosen path:\n",
    " - Training: Samples used during the F-RCNN training\n",
    " - Validation: Samples used for validation purpouses during training - Total of `N_VALIDATION` full images\n",
    " - Verification: Samples used to evaluate the F-RCNN accuracy after the training step. Unseen data during training  - Total of `N_VERIFICATION` full images\n",
    " \n",
    "Each folder cotains 3 folders:\n",
    " - `contours`: Text files which contains coordinates and parameters of the contours\n",
    " - `debug`: All the labelled images from the `.h5` file\n",
    " - `images`: All the raw images from the `.h5` file\n",
    "\n",
    "The folder created in this step should be sent to the `FRCNN/dataset` folder for training."
   ]
  }
 ],
 "metadata": {
  "kernelspec": {
   "display_name": "Python 3 (ipykernel)",
   "language": "python",
   "name": "python3"
  },
  "language_info": {
   "codemirror_mode": {
    "name": "ipython",
    "version": 3
   },
   "file_extension": ".py",
   "mimetype": "text/x-python",
   "name": "python",
   "nbconvert_exporter": "python",
   "pygments_lexer": "ipython3",
   "version": "3.10.14"
  }
 },
 "nbformat": 4,
 "nbformat_minor": 5
}
